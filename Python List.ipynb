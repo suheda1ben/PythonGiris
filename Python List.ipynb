{
 "cells": [
  {
   "cell_type": "code",
   "execution_count": null,
   "id": "69d69c1d",
   "metadata": {},
   "outputs": [],
   "source": [
    "# List\n",
    "#Tuple\n",
    "#Set\n",
    "#Dictionary"
   ]
  },
  {
   "cell_type": "code",
   "execution_count": 13,
   "id": "35d618f5",
   "metadata": {},
   "outputs": [],
   "source": [
    "ornekList=['elma',\"armut\",\"kiraz\",\"çilek\",12,10, 0.4,'dünya']"
   ]
  },
  {
   "cell_type": "code",
   "execution_count": 109,
   "id": "a7b6a0e8",
   "metadata": {},
   "outputs": [],
   "source": [
    "newList=['horse','axolotl','birdy',22,'owl',32,'longisland']"
   ]
  },
  {
   "cell_type": "code",
   "execution_count": 67,
   "id": "fc17c0e0",
   "metadata": {},
   "outputs": [
    {
     "data": {
      "text/plain": [
       "['horse', 'axolotl', 'birdy', 22, 'owl', 32, 'longisland']"
      ]
     },
     "execution_count": 67,
     "metadata": {},
     "output_type": "execute_result"
    }
   ],
   "source": [
    "newList"
   ]
  },
  {
   "cell_type": "code",
   "execution_count": 69,
   "id": "6596b203",
   "metadata": {},
   "outputs": [
    {
     "data": {
      "text/plain": [
       "'birdy'"
      ]
     },
     "execution_count": 69,
     "metadata": {},
     "output_type": "execute_result"
    }
   ],
   "source": [
    "newList[2]"
   ]
  },
  {
   "cell_type": "code",
   "execution_count": 71,
   "id": "1b33608b",
   "metadata": {},
   "outputs": [
    {
     "data": {
      "text/plain": [
       "'birdy'"
      ]
     },
     "execution_count": 71,
     "metadata": {},
     "output_type": "execute_result"
    }
   ],
   "source": [
    "newList[2]"
   ]
  },
  {
   "cell_type": "code",
   "execution_count": 72,
   "id": "02337478",
   "metadata": {},
   "outputs": [
    {
     "data": {
      "text/plain": [
       "'longisland'"
      ]
     },
     "execution_count": 72,
     "metadata": {},
     "output_type": "execute_result"
    }
   ],
   "source": [
    "newList[6]"
   ]
  },
  {
   "cell_type": "code",
   "execution_count": 80,
   "id": "8118a85e",
   "metadata": {},
   "outputs": [
    {
     "name": "stdout",
     "output_type": "stream",
     "text": [
      "birdy longisland\n"
     ]
    }
   ],
   "source": [
    "yeniDizi= newList[2] + \" \"+newList[6]\n",
    "print(yeniDizi)"
   ]
  },
  {
   "cell_type": "code",
   "execution_count": 78,
   "id": "56c63e59",
   "metadata": {},
   "outputs": [
    {
     "name": "stdout",
     "output_type": "stream",
     "text": [
      "birdy longisland\n"
     ]
    }
   ],
   "source": [
    "print(newList[2] +\" \"+ newList[-1])"
   ]
  },
  {
   "cell_type": "code",
   "execution_count": 14,
   "id": "e8acf7ff",
   "metadata": {},
   "outputs": [
    {
     "data": {
      "text/plain": [
       "['elma', 'armut', 'kiraz', 'çilek', 12, 10, 0.4, 'dünya']"
      ]
     },
     "execution_count": 14,
     "metadata": {},
     "output_type": "execute_result"
    }
   ],
   "source": [
    "ornekList"
   ]
  },
  {
   "cell_type": "code",
   "execution_count": 15,
   "id": "7255bd06",
   "metadata": {},
   "outputs": [
    {
     "data": {
      "text/plain": [
       "'armut'"
      ]
     },
     "execution_count": 15,
     "metadata": {},
     "output_type": "execute_result"
    }
   ],
   "source": [
    "ornekList[1]"
   ]
  },
  {
   "cell_type": "code",
   "execution_count": 16,
   "id": "913b59f9",
   "metadata": {},
   "outputs": [],
   "source": [
    "# (List) Diziler de elemanlar 0 dan başlar. Index ler 0 dan başlar"
   ]
  },
  {
   "cell_type": "code",
   "execution_count": 17,
   "id": "7524d59f",
   "metadata": {},
   "outputs": [
    {
     "data": {
      "text/plain": [
       "'çilek'"
      ]
     },
     "execution_count": 17,
     "metadata": {},
     "output_type": "execute_result"
    }
   ],
   "source": [
    "ornekList[3]"
   ]
  },
  {
   "cell_type": "code",
   "execution_count": 19,
   "id": "cd4419ca",
   "metadata": {},
   "outputs": [],
   "source": [
    "# Bir dizenin son elemanı alma"
   ]
  },
  {
   "cell_type": "code",
   "execution_count": 22,
   "id": "be044214",
   "metadata": {
    "scrolled": true
   },
   "outputs": [
    {
     "data": {
      "text/plain": [
       "'dünya'"
      ]
     },
     "execution_count": 22,
     "metadata": {},
     "output_type": "execute_result"
    }
   ],
   "source": [
    "ornekList[-1]"
   ]
  },
  {
   "cell_type": "code",
   "execution_count": null,
   "id": "63b0a194",
   "metadata": {},
   "outputs": [],
   "source": [
    "# Aralık Belirtme"
   ]
  },
  {
   "cell_type": "code",
   "execution_count": 81,
   "id": "f69efd84",
   "metadata": {},
   "outputs": [
    {
     "data": {
      "text/plain": [
       "['axolotl', 'birdy', 22]"
      ]
     },
     "execution_count": 81,
     "metadata": {},
     "output_type": "execute_result"
    }
   ],
   "source": [
    "newList[1:4]"
   ]
  },
  {
   "cell_type": "code",
   "execution_count": 83,
   "id": "3cfb2fd4",
   "metadata": {},
   "outputs": [
    {
     "data": {
      "text/plain": [
       "['horse', 'axolotl', 'birdy', 22, 'owl', 32, 'longisland']"
      ]
     },
     "execution_count": 83,
     "metadata": {},
     "output_type": "execute_result"
    }
   ],
   "source": [
    "newList"
   ]
  },
  {
   "cell_type": "code",
   "execution_count": 85,
   "id": "3393c2e7",
   "metadata": {},
   "outputs": [
    {
     "data": {
      "text/plain": [
       "['birdy', 22, 'owl', 32, 'longisland']"
      ]
     },
     "execution_count": 85,
     "metadata": {},
     "output_type": "execute_result"
    }
   ],
   "source": [
    "newList[2:]"
   ]
  },
  {
   "cell_type": "code",
   "execution_count": 86,
   "id": "30c513f8",
   "metadata": {},
   "outputs": [
    {
     "data": {
      "text/plain": [
       "['horse', 'axolotl', 'birdy']"
      ]
     },
     "execution_count": 86,
     "metadata": {},
     "output_type": "execute_result"
    }
   ],
   "source": [
    "newList[:3]"
   ]
  },
  {
   "cell_type": "code",
   "execution_count": 92,
   "id": "044b8d40",
   "metadata": {},
   "outputs": [
    {
     "data": {
      "text/plain": [
       "['owl', 32]"
      ]
     },
     "execution_count": 92,
     "metadata": {},
     "output_type": "execute_result"
    }
   ],
   "source": [
    "newList[-3:-1]"
   ]
  },
  {
   "cell_type": "code",
   "execution_count": 93,
   "id": "53dc5474",
   "metadata": {},
   "outputs": [
    {
     "data": {
      "text/plain": [
       "'owl'"
      ]
     },
     "execution_count": 93,
     "metadata": {},
     "output_type": "execute_result"
    }
   ],
   "source": [
    "newList[4]"
   ]
  },
  {
   "cell_type": "code",
   "execution_count": 23,
   "id": "9d9fada6",
   "metadata": {},
   "outputs": [
    {
     "data": {
      "text/plain": [
       "['kiraz', 'çilek', 12]"
      ]
     },
     "execution_count": 23,
     "metadata": {},
     "output_type": "execute_result"
    }
   ],
   "source": [
    "ornekList[2:5]"
   ]
  },
  {
   "cell_type": "code",
   "execution_count": 24,
   "id": "fba95873",
   "metadata": {},
   "outputs": [
    {
     "data": {
      "text/plain": [
       "['elma', 'armut', 'kiraz', 'çilek']"
      ]
     },
     "execution_count": 24,
     "metadata": {},
     "output_type": "execute_result"
    }
   ],
   "source": [
    "ornekList[:4]"
   ]
  },
  {
   "cell_type": "code",
   "execution_count": 25,
   "id": "61a51a0a",
   "metadata": {},
   "outputs": [
    {
     "data": {
      "text/plain": [
       "['kiraz', 'çilek', 12, 10, 0.4, 'dünya']"
      ]
     },
     "execution_count": 25,
     "metadata": {},
     "output_type": "execute_result"
    }
   ],
   "source": [
    "ornekList[2:]"
   ]
  },
  {
   "cell_type": "code",
   "execution_count": 27,
   "id": "6f062cb6",
   "metadata": {},
   "outputs": [
    {
     "data": {
      "text/plain": [
       "['çilek', 12, 10, 0.4]"
      ]
     },
     "execution_count": 27,
     "metadata": {},
     "output_type": "execute_result"
    }
   ],
   "source": [
    "ornekList[-5:-1]"
   ]
  },
  {
   "cell_type": "code",
   "execution_count": 28,
   "id": "7ae05297",
   "metadata": {},
   "outputs": [
    {
     "data": {
      "text/plain": [
       "'elma'"
      ]
     },
     "execution_count": 28,
     "metadata": {},
     "output_type": "execute_result"
    }
   ],
   "source": [
    "ornekList[0]"
   ]
  },
  {
   "cell_type": "code",
   "execution_count": 29,
   "id": "6b7934ea",
   "metadata": {},
   "outputs": [
    {
     "data": {
      "text/plain": [
       "'çilek'"
      ]
     },
     "execution_count": 29,
     "metadata": {},
     "output_type": "execute_result"
    }
   ],
   "source": [
    "ornekList[3]"
   ]
  },
  {
   "cell_type": "code",
   "execution_count": 30,
   "id": "23cb0197",
   "metadata": {},
   "outputs": [],
   "source": [
    "# Değer değiştirme / Atama"
   ]
  },
  {
   "cell_type": "code",
   "execution_count": 95,
   "id": "168989d5",
   "metadata": {},
   "outputs": [
    {
     "data": {
      "text/plain": [
       "['horse', 'squishymellow', 'birdy', 22, 'owl', 32, 'longisland']"
      ]
     },
     "execution_count": 95,
     "metadata": {},
     "output_type": "execute_result"
    }
   ],
   "source": [
    "newList[1]=\"squishymellow\"\n",
    "newList"
   ]
  },
  {
   "cell_type": "code",
   "execution_count": 96,
   "id": "2639786c",
   "metadata": {},
   "outputs": [
    {
     "name": "stdout",
     "output_type": "stream",
     "text": [
      "['horse', 'squishymellow', 'birdy', 22, 'owl', 32, 'longisland']\n"
     ]
    }
   ],
   "source": [
    "print(newList)"
   ]
  },
  {
   "cell_type": "code",
   "execution_count": 32,
   "id": "4031bbf9",
   "metadata": {},
   "outputs": [],
   "source": [
    "ornekList[2]=\"karpuz\"\n"
   ]
  },
  {
   "cell_type": "code",
   "execution_count": 98,
   "id": "98550144",
   "metadata": {},
   "outputs": [
    {
     "data": {
      "text/plain": [
       "['horse', 'squishymellow', 'birdy', 22, 'owl', 32, 56]"
      ]
     },
     "execution_count": 98,
     "metadata": {},
     "output_type": "execute_result"
    }
   ],
   "source": [
    "newList[6]=56\n",
    "newList"
   ]
  },
  {
   "cell_type": "code",
   "execution_count": 99,
   "id": "688d41a3",
   "metadata": {},
   "outputs": [
    {
     "data": {
      "text/plain": [
       "['horse', 'squishymellow', 'birdy', 22, '56', 32, 56]"
      ]
     },
     "execution_count": 99,
     "metadata": {},
     "output_type": "execute_result"
    }
   ],
   "source": [
    "newList[4]=\"56\"\n",
    "newList"
   ]
  },
  {
   "cell_type": "code",
   "execution_count": 104,
   "id": "b6e79aec",
   "metadata": {},
   "outputs": [
    {
     "name": "stdout",
     "output_type": "stream",
     "text": [
      "60\n"
     ]
    }
   ],
   "source": [
    "print(int(newList[4])+4)  #\"56\" str - int'e cevirildi."
   ]
  },
  {
   "cell_type": "code",
   "execution_count": null,
   "id": "617d211a",
   "metadata": {},
   "outputs": [],
   "source": []
  },
  {
   "cell_type": "code",
   "execution_count": 33,
   "id": "70acbd52",
   "metadata": {},
   "outputs": [
    {
     "name": "stdout",
     "output_type": "stream",
     "text": [
      "['elma', 'armut', 'karpuz', 'çilek', 12, 10, 0.4, 'dünya']\n"
     ]
    }
   ],
   "source": [
    "print(ornekList)"
   ]
  },
  {
   "cell_type": "code",
   "execution_count": 34,
   "id": "784bfe32",
   "metadata": {},
   "outputs": [
    {
     "data": {
      "text/plain": [
       "['elma', 'armut', 'karpuz', 'çilek', 12, 10, 0.4, 'dünya']"
      ]
     },
     "execution_count": 34,
     "metadata": {},
     "output_type": "execute_result"
    }
   ],
   "source": [
    "ornekList"
   ]
  },
  {
   "cell_type": "code",
   "execution_count": 35,
   "id": "a2f2cc60",
   "metadata": {},
   "outputs": [],
   "source": [
    "ornekList[2]=19"
   ]
  },
  {
   "cell_type": "code",
   "execution_count": 36,
   "id": "e0d27475",
   "metadata": {},
   "outputs": [
    {
     "data": {
      "text/plain": [
       "['elma', 'armut', 19, 'çilek', 12, 10, 0.4, 'dünya']"
      ]
     },
     "execution_count": 36,
     "metadata": {},
     "output_type": "execute_result"
    }
   ],
   "source": [
    "ornekList"
   ]
  },
  {
   "cell_type": "code",
   "execution_count": 37,
   "id": "5ce37394",
   "metadata": {},
   "outputs": [
    {
     "data": {
      "text/plain": [
       "['elma', 'armut', 19, 'çilek', 12, 10, 0.4, 'dünya']"
      ]
     },
     "execution_count": 37,
     "metadata": {},
     "output_type": "execute_result"
    }
   ],
   "source": [
    "ornekList"
   ]
  },
  {
   "cell_type": "code",
   "execution_count": 38,
   "id": "1c58e256",
   "metadata": {},
   "outputs": [],
   "source": [
    "# Bu list in tüm elemanlarını ekrana yazdıralım"
   ]
  },
  {
   "cell_type": "code",
   "execution_count": 107,
   "id": "a6efddf8",
   "metadata": {},
   "outputs": [],
   "source": []
  },
  {
   "cell_type": "code",
   "execution_count": 112,
   "id": "f3f48935",
   "metadata": {},
   "outputs": [
    {
     "name": "stdout",
     "output_type": "stream",
     "text": [
      "elma\n",
      "armut\n",
      "19\n",
      "çilek\n",
      "12\n",
      "10\n",
      "0.4\n",
      "dünya\n",
      "anahtar\n",
      "kalemlik\n"
     ]
    }
   ],
   "source": [
    "for i in ornekList:\n",
    "    print(i)"
   ]
  },
  {
   "cell_type": "code",
   "execution_count": null,
   "id": "acd61375",
   "metadata": {},
   "outputs": [],
   "source": []
  },
  {
   "cell_type": "code",
   "execution_count": 110,
   "id": "f0662bc1",
   "metadata": {},
   "outputs": [
    {
     "name": "stdout",
     "output_type": "stream",
     "text": [
      "elma\n",
      "armut\n",
      "19\n",
      "çilek\n",
      "12\n",
      "10\n",
      "0.4\n",
      "dünya\n",
      "anahtar\n",
      "kalemlik\n"
     ]
    }
   ],
   "source": [
    "for i in ornekList:\n",
    "    print(i)"
   ]
  },
  {
   "cell_type": "code",
   "execution_count": 48,
   "id": "342a7b6c",
   "metadata": {},
   "outputs": [
    {
     "name": "stdout",
     "output_type": "stream",
     "text": [
      "Yok\n"
     ]
    }
   ],
   "source": [
    "if \"çileks\" in ornekList:\n",
    "    print(\"Evet mevcut\")\n",
    "else:\n",
    "    print(\"Yok\")"
   ]
  },
  {
   "cell_type": "code",
   "execution_count": 114,
   "id": "4758e208",
   "metadata": {},
   "outputs": [
    {
     "name": "stdout",
     "output_type": "stream",
     "text": [
      "Evet mevcut\n"
     ]
    }
   ],
   "source": [
    "if \"owl\" in newList:\n",
    "    print(\"Evet mevcut\")\n",
    "else:\n",
    "    print(\"Yok\")"
   ]
  },
  {
   "cell_type": "code",
   "execution_count": 49,
   "id": "b304472a",
   "metadata": {},
   "outputs": [],
   "source": [
    "# List in kaç elemanlı olduğunu bulma"
   ]
  },
  {
   "cell_type": "code",
   "execution_count": 50,
   "id": "c73debd4",
   "metadata": {},
   "outputs": [
    {
     "data": {
      "text/plain": [
       "8"
      ]
     },
     "execution_count": 50,
     "metadata": {},
     "output_type": "execute_result"
    }
   ],
   "source": [
    "len(ornekList)"
   ]
  },
  {
   "cell_type": "code",
   "execution_count": 115,
   "id": "be29ece1",
   "metadata": {},
   "outputs": [
    {
     "data": {
      "text/plain": [
       "7"
      ]
     },
     "execution_count": 115,
     "metadata": {},
     "output_type": "execute_result"
    }
   ],
   "source": [
    "len(newList)"
   ]
  },
  {
   "cell_type": "code",
   "execution_count": 51,
   "id": "6640ee7d",
   "metadata": {},
   "outputs": [
    {
     "name": "stdout",
     "output_type": "stream",
     "text": [
      "0\n",
      "1\n",
      "2\n",
      "3\n",
      "4\n",
      "5\n",
      "6\n",
      "7\n"
     ]
    }
   ],
   "source": [
    "for i in range(len(ornekList)):\n",
    "    print(i)"
   ]
  },
  {
   "cell_type": "code",
   "execution_count": 116,
   "id": "112ce483",
   "metadata": {},
   "outputs": [
    {
     "name": "stdout",
     "output_type": "stream",
     "text": [
      "0\n",
      "1\n",
      "2\n",
      "3\n",
      "4\n",
      "5\n",
      "6\n"
     ]
    }
   ],
   "source": [
    "for i in range(len(newList)):\n",
    "    print(i)"
   ]
  },
  {
   "cell_type": "code",
   "execution_count": 52,
   "id": "80591de6",
   "metadata": {},
   "outputs": [],
   "source": [
    "# Diziye değer ekleme"
   ]
  },
  {
   "cell_type": "code",
   "execution_count": 118,
   "id": "a71fb168",
   "metadata": {},
   "outputs": [
    {
     "data": {
      "text/plain": [
       "['horse', 'axolotl', 'birdy', 22, 'owl', 32, 'longisland', 1000, 1000]"
      ]
     },
     "execution_count": 118,
     "metadata": {},
     "output_type": "execute_result"
    }
   ],
   "source": [
    "newList.append(1000)\n",
    "newList"
   ]
  },
  {
   "cell_type": "code",
   "execution_count": 119,
   "id": "ebfb4500",
   "metadata": {},
   "outputs": [
    {
     "name": "stdout",
     "output_type": "stream",
     "text": [
      "['horse', 'axolotl', 'birdy', 22, 'owl', 32, 'longisland', 1000, 1000, 1000]\n",
      "['horse', 'axolotl', 'birdy', 22, 'owl', 32, 'longisland', 1000, 1000, 1000, 1000]\n",
      "['horse', 'axolotl', 'birdy', 22, 'owl', 32, 'longisland', 1000, 1000, 1000, 1000, 1000]\n",
      "['horse', 'axolotl', 'birdy', 22, 'owl', 32, 'longisland', 1000, 1000, 1000, 1000, 1000, 1000]\n",
      "['horse', 'axolotl', 'birdy', 22, 'owl', 32, 'longisland', 1000, 1000, 1000, 1000, 1000, 1000, 1000]\n"
     ]
    }
   ],
   "source": [
    "for i in range(5):\n",
    "    newList.append(1000)\n",
    "    print(newList)"
   ]
  },
  {
   "cell_type": "code",
   "execution_count": 54,
   "id": "dc93548a",
   "metadata": {},
   "outputs": [],
   "source": [
    "ornekList.append(\"anahtar\")\n",
    "ornekList.append(\"kalemlik\")"
   ]
  },
  {
   "cell_type": "code",
   "execution_count": 55,
   "id": "25a9d2f1",
   "metadata": {},
   "outputs": [
    {
     "data": {
      "text/plain": [
       "['elma',\n",
       " 'armut',\n",
       " 19,\n",
       " 'çilek',\n",
       " 12,\n",
       " 10,\n",
       " 0.4,\n",
       " 'dünya',\n",
       " 'anahtar',\n",
       " 'anahtar',\n",
       " 'kalemlik']"
      ]
     },
     "execution_count": 55,
     "metadata": {},
     "output_type": "execute_result"
    }
   ],
   "source": [
    "ornekList"
   ]
  },
  {
   "cell_type": "code",
   "execution_count": 56,
   "id": "2fa4229f",
   "metadata": {},
   "outputs": [],
   "source": [
    "ornekList.remove(\"anahtar\")"
   ]
  },
  {
   "cell_type": "code",
   "execution_count": 120,
   "id": "b8aa659a",
   "metadata": {},
   "outputs": [
    {
     "data": {
      "text/plain": [
       "['horse',\n",
       " 'axolotl',\n",
       " 'birdy',\n",
       " 22,\n",
       " 'owl',\n",
       " 32,\n",
       " 'longisland',\n",
       " 1000,\n",
       " 1000,\n",
       " 1000,\n",
       " 1000,\n",
       " 1000,\n",
       " 1000,\n",
       " 1000]"
      ]
     },
     "execution_count": 120,
     "metadata": {},
     "output_type": "execute_result"
    }
   ],
   "source": [
    "newList "
   ]
  },
  {
   "cell_type": "code",
   "execution_count": 123,
   "id": "b0001dd1",
   "metadata": {},
   "outputs": [],
   "source": [
    "newList.remove(\"birdy\")"
   ]
  },
  {
   "cell_type": "code",
   "execution_count": 124,
   "id": "df986474",
   "metadata": {},
   "outputs": [
    {
     "data": {
      "text/plain": [
       "['axolotl',\n",
       " 22,\n",
       " 'owl',\n",
       " 32,\n",
       " 'longisland',\n",
       " 1000,\n",
       " 1000,\n",
       " 1000,\n",
       " 1000,\n",
       " 1000,\n",
       " 1000,\n",
       " 1000]"
      ]
     },
     "execution_count": 124,
     "metadata": {},
     "output_type": "execute_result"
    }
   ],
   "source": [
    "newList"
   ]
  },
  {
   "cell_type": "code",
   "execution_count": 57,
   "id": "1e987bc3",
   "metadata": {},
   "outputs": [
    {
     "data": {
      "text/plain": [
       "['elma', 'armut', 19, 'çilek', 12, 10, 0.4, 'dünya', 'anahtar', 'kalemlik']"
      ]
     },
     "execution_count": 57,
     "metadata": {},
     "output_type": "execute_result"
    }
   ],
   "source": [
    "ornekList"
   ]
  },
  {
   "cell_type": "code",
   "execution_count": 58,
   "id": "d8eb367f",
   "metadata": {},
   "outputs": [],
   "source": [
    "# Dizi kopyalama"
   ]
  },
  {
   "cell_type": "code",
   "execution_count": 125,
   "id": "8f4fa424",
   "metadata": {},
   "outputs": [],
   "source": [
    "yeniList=newList.copy()"
   ]
  },
  {
   "cell_type": "code",
   "execution_count": 126,
   "id": "81c8cf66",
   "metadata": {},
   "outputs": [
    {
     "data": {
      "text/plain": [
       "['axolotl',\n",
       " 22,\n",
       " 'owl',\n",
       " 32,\n",
       " 'longisland',\n",
       " 1000,\n",
       " 1000,\n",
       " 1000,\n",
       " 1000,\n",
       " 1000,\n",
       " 1000,\n",
       " 1000]"
      ]
     },
     "execution_count": 126,
     "metadata": {},
     "output_type": "execute_result"
    }
   ],
   "source": [
    "yeniList"
   ]
  },
  {
   "cell_type": "code",
   "execution_count": 59,
   "id": "a69d4c61",
   "metadata": {},
   "outputs": [],
   "source": [
    "yeniList=ornekList.copy()"
   ]
  },
  {
   "cell_type": "code",
   "execution_count": 60,
   "id": "f36d8751",
   "metadata": {},
   "outputs": [
    {
     "data": {
      "text/plain": [
       "['elma', 'armut', 19, 'çilek', 12, 10, 0.4, 'dünya', 'anahtar', 'kalemlik']"
      ]
     },
     "execution_count": 60,
     "metadata": {},
     "output_type": "execute_result"
    }
   ],
   "source": [
    "yeniList"
   ]
  },
  {
   "cell_type": "code",
   "execution_count": 61,
   "id": "5efb11e2",
   "metadata": {},
   "outputs": [],
   "source": [
    "# Dizileri birleştirme"
   ]
  },
  {
   "cell_type": "code",
   "execution_count": 127,
   "id": "ec8dfb33",
   "metadata": {},
   "outputs": [],
   "source": [
    "mergeList=yeniList+newList"
   ]
  },
  {
   "cell_type": "code",
   "execution_count": 128,
   "id": "aa22f9e9",
   "metadata": {},
   "outputs": [
    {
     "data": {
      "text/plain": [
       "['axolotl',\n",
       " 22,\n",
       " 'owl',\n",
       " 32,\n",
       " 'longisland',\n",
       " 1000,\n",
       " 1000,\n",
       " 1000,\n",
       " 1000,\n",
       " 1000,\n",
       " 1000,\n",
       " 1000,\n",
       " 'axolotl',\n",
       " 22,\n",
       " 'owl',\n",
       " 32,\n",
       " 'longisland',\n",
       " 1000,\n",
       " 1000,\n",
       " 1000,\n",
       " 1000,\n",
       " 1000,\n",
       " 1000,\n",
       " 1000]"
      ]
     },
     "execution_count": 128,
     "metadata": {},
     "output_type": "execute_result"
    }
   ],
   "source": [
    "mergeList"
   ]
  },
  {
   "cell_type": "code",
   "execution_count": 62,
   "id": "16d98610",
   "metadata": {},
   "outputs": [],
   "source": [
    "mergeList =yeniList+ornekList"
   ]
  },
  {
   "cell_type": "code",
   "execution_count": 63,
   "id": "f3a1827e",
   "metadata": {},
   "outputs": [
    {
     "data": {
      "text/plain": [
       "['elma',\n",
       " 'armut',\n",
       " 19,\n",
       " 'çilek',\n",
       " 12,\n",
       " 10,\n",
       " 0.4,\n",
       " 'dünya',\n",
       " 'anahtar',\n",
       " 'kalemlik',\n",
       " 'elma',\n",
       " 'armut',\n",
       " 19,\n",
       " 'çilek',\n",
       " 12,\n",
       " 10,\n",
       " 0.4,\n",
       " 'dünya',\n",
       " 'anahtar',\n",
       " 'kalemlik']"
      ]
     },
     "execution_count": 63,
     "metadata": {},
     "output_type": "execute_result"
    }
   ],
   "source": [
    "mergeList"
   ]
  },
  {
   "cell_type": "code",
   "execution_count": 64,
   "id": "9825e178",
   "metadata": {},
   "outputs": [
    {
     "data": {
      "text/plain": [
       "20"
      ]
     },
     "execution_count": 64,
     "metadata": {},
     "output_type": "execute_result"
    }
   ],
   "source": [
    "len(mergeList)  # Eleman Sayısını öğreniyoruz (len-length)"
   ]
  },
  {
   "cell_type": "code",
   "execution_count": 129,
   "id": "25fca3a9",
   "metadata": {},
   "outputs": [
    {
     "data": {
      "text/plain": [
       "24"
      ]
     },
     "execution_count": 129,
     "metadata": {},
     "output_type": "execute_result"
    }
   ],
   "source": [
    "len(mergeList)"
   ]
  },
  {
   "cell_type": "code",
   "execution_count": null,
   "id": "f71a6767",
   "metadata": {},
   "outputs": [],
   "source": []
  }
 ],
 "metadata": {
  "kernelspec": {
   "display_name": "Python 3 (ipykernel)",
   "language": "python",
   "name": "python3"
  },
  "language_info": {
   "codemirror_mode": {
    "name": "ipython",
    "version": 3
   },
   "file_extension": ".py",
   "mimetype": "text/x-python",
   "name": "python",
   "nbconvert_exporter": "python",
   "pygments_lexer": "ipython3",
   "version": "3.9.12"
  }
 },
 "nbformat": 4,
 "nbformat_minor": 5
}
