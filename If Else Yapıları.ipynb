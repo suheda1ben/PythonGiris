{
 "cells": [
  {
   "cell_type": "markdown",
   "id": "9fcd46af",
   "metadata": {},
   "source": [
    "Eşittir: a == b\n",
    "Eşit değildir: a != b\n",
    "Küçüktür: a < b\n",
    "Küçük ya da eşittir: a <= b\n",
    "Büyüktür: a > b\n",
    "Büyük ya da eşittir: a >= b"
   ]
  },
  {
   "cell_type": "code",
   "execution_count": 19,
   "id": "ea6ae1ba",
   "metadata": {},
   "outputs": [],
   "source": [
    "x=18\n",
    "y=18"
   ]
  },
  {
   "cell_type": "code",
   "execution_count": 9,
   "id": "651c1c76",
   "metadata": {},
   "outputs": [
    {
     "name": "stdout",
     "output_type": "stream",
     "text": [
      "x y den buyuktur\n"
     ]
    }
   ],
   "source": [
    "if x>y:\n",
    "    print('x y den buyuktur')\n",
    "elif x<y:\n",
    "    print(\"x y den küçüktür\")"
   ]
  },
  {
   "cell_type": "code",
   "execution_count": 20,
   "id": "8af387da",
   "metadata": {},
   "outputs": [
    {
     "name": "stdout",
     "output_type": "stream",
     "text": [
      "x y ye esittir\n",
      "x kucuk yada esittir\n"
     ]
    }
   ],
   "source": [
    "Eşittir: a == b\n",
    "Eşit değildir: a != b\n",
    "Küçüktür: a < b\n",
    "Küçük ya da eşittir: a <= b\n",
    "Büyüktür: a > b\n",
    "Büyük ya da eşittir: a >= b\n",
    "if x==y:\n",
    "    print('x y ye esittir')\n",
    "elif x != y:\n",
    "    print('x y ye esit degildir')\n",
    "if x<=y:\n",
    "    print('x kucuk yada esittir')\n",
    "elif x>=y:\n",
    "    print('x y den buyuktur ya da eşittir')"
   ]
  },
  {
   "cell_type": "code",
   "execution_count": null,
   "id": "31bb17e7",
   "metadata": {},
   "outputs": [],
   "source": []
  }
 ],
 "metadata": {
  "kernelspec": {
   "display_name": "Python 3 (ipykernel)",
   "language": "python",
   "name": "python3"
  },
  "language_info": {
   "codemirror_mode": {
    "name": "ipython",
    "version": 3
   },
   "file_extension": ".py",
   "mimetype": "text/x-python",
   "name": "python",
   "nbconvert_exporter": "python",
   "pygments_lexer": "ipython3",
   "version": "3.9.12"
  }
 },
 "nbformat": 4,
 "nbformat_minor": 5
}
