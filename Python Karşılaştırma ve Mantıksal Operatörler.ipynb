{
 "cells": [
  {
   "cell_type": "markdown",
   "id": "d563b1ff",
   "metadata": {},
   "source": [
    "+: Add two operands or unary plus\n",
    "-: Subtract right operand from the left or unary minus\n",
    "*: Multiply two operands\n",
    "/: Divide left operand by the right one (always results into float)\n",
    "%: Modulus - remainder of the division of left operand by the right"
   ]
  },
  {
   "cell_type": "code",
   "execution_count": 1,
   "id": "eaf9b93c",
   "metadata": {},
   "outputs": [],
   "source": [
    "x=25\n",
    "y=16"
   ]
  },
  {
   "cell_type": "code",
   "execution_count": 2,
   "id": "9d97aed0",
   "metadata": {},
   "outputs": [
    {
     "name": "stdout",
     "output_type": "stream",
     "text": [
      "41\n"
     ]
    }
   ],
   "source": [
    "# Toplama İşlemi\n",
    "print(x+y)"
   ]
  },
  {
   "cell_type": "code",
   "execution_count": 3,
   "id": "c8ce9155",
   "metadata": {},
   "outputs": [
    {
     "name": "stdout",
     "output_type": "stream",
     "text": [
      "9\n"
     ]
    }
   ],
   "source": [
    "# Cikarma islerimi\n",
    "\n",
    "print(x-y)"
   ]
  },
  {
   "cell_type": "code",
   "execution_count": 4,
   "id": "9aabfeb8",
   "metadata": {},
   "outputs": [
    {
     "name": "stdout",
     "output_type": "stream",
     "text": [
      "-9\n"
     ]
    }
   ],
   "source": [
    "print(y-x)"
   ]
  },
  {
   "cell_type": "code",
   "execution_count": 5,
   "id": "2ce36186",
   "metadata": {},
   "outputs": [
    {
     "name": "stdout",
     "output_type": "stream",
     "text": [
      "400\n"
     ]
    }
   ],
   "source": [
    "#Carpma islemi\n",
    "print(x*y)"
   ]
  },
  {
   "cell_type": "code",
   "execution_count": 6,
   "id": "015ac979",
   "metadata": {},
   "outputs": [
    {
     "name": "stdout",
     "output_type": "stream",
     "text": [
      "1.5625\n"
     ]
    }
   ],
   "source": [
    "#Bolme islemi \n",
    "print(x/y)"
   ]
  },
  {
   "cell_type": "code",
   "execution_count": 7,
   "id": "76e5e713",
   "metadata": {},
   "outputs": [
    {
     "name": "stdout",
     "output_type": "stream",
     "text": [
      "9\n"
     ]
    }
   ],
   "source": [
    "#Mod alma \n",
    "print(x%y)"
   ]
  },
  {
   "cell_type": "code",
   "execution_count": 8,
   "id": "94ff7659",
   "metadata": {},
   "outputs": [
    {
     "name": "stdout",
     "output_type": "stream",
     "text": [
      "False\n"
     ]
    }
   ],
   "source": [
    "print('x/y'=='x*y')    #Fonksiyon icerisinde,karsilastirma operatorleri kullanarak sonuc alabilirz."
   ]
  },
  {
   "cell_type": "code",
   "execution_count": 9,
   "id": "d03a8636",
   "metadata": {},
   "outputs": [],
   "source": [
    "#Boolean yapılarda sonuc değeri True False değeri alır"
   ]
  },
  {
   "cell_type": "code",
   "execution_count": 10,
   "id": "51aea30d",
   "metadata": {},
   "outputs": [
    {
     "ename": "SyntaxError",
     "evalue": "invalid syntax (1646160847.py, line 1)",
     "output_type": "error",
     "traceback": [
      "\u001b[0;36m  Input \u001b[0;32mIn [10]\u001b[0;36m\u001b[0m\n\u001b[0;31m    >: Greater that - True if left operand is greater than the right\u001b[0m\n\u001b[0m    ^\u001b[0m\n\u001b[0;31mSyntaxError\u001b[0m\u001b[0;31m:\u001b[0m invalid syntax\n"
     ]
    }
   ],
   "source": [
    ">: Greater that - True if left operand is greater than the right\n",
    "<: Less that - True if left operand is less than the right\n",
    "==: Equal to - True if both operands are equal\n",
    "!=: Not equal to - True if operands are not equal\n",
    ">=: Greater than or equal to - True if left operand is greater than or equal to the right\n",
    "<=: Less than or equal to - True if left operand is less than or equal to the right"
   ]
  },
  {
   "cell_type": "code",
   "execution_count": 11,
   "id": "f02294e5",
   "metadata": {},
   "outputs": [
    {
     "name": "stdout",
     "output_type": "stream",
     "text": [
      "Lütfen rakam giriniz :\n"
     ]
    },
    {
     "ename": "ValueError",
     "evalue": "invalid literal for int() with base 10: ''",
     "output_type": "error",
     "traceback": [
      "\u001b[0;31m---------------------------------------------------------------------------\u001b[0m",
      "\u001b[0;31mValueError\u001b[0m                                Traceback (most recent call last)",
      "Input \u001b[0;32mIn [11]\u001b[0m, in \u001b[0;36m<cell line: 1>\u001b[0;34m()\u001b[0m\n\u001b[0;32m----> 1\u001b[0m x\u001b[38;5;241m=\u001b[39m\u001b[38;5;28;43mint\u001b[39;49m\u001b[43m(\u001b[49m\u001b[38;5;28;43minput\u001b[39;49m\u001b[43m(\u001b[49m\u001b[38;5;124;43m\"\u001b[39;49m\u001b[38;5;124;43mLütfen rakam giriniz :\u001b[39;49m\u001b[38;5;124;43m\"\u001b[39;49m\u001b[43m)\u001b[49m\u001b[43m)\u001b[49m\n\u001b[1;32m      2\u001b[0m y\u001b[38;5;241m=\u001b[39m\u001b[38;5;28mint\u001b[39m(\u001b[38;5;28minput\u001b[39m(\u001b[38;5;124m\"\u001b[39m\u001b[38;5;124mIkinci bir rakam giriniz :\u001b[39m\u001b[38;5;124m\"\u001b[39m))\n",
      "\u001b[0;31mValueError\u001b[0m: invalid literal for int() with base 10: ''"
     ]
    }
   ],
   "source": [
    "x=int(input(\"Lütfen rakam giriniz :\"))\n",
    "y=int(input(\"Ikinci bir rakam giriniz :\"))"
   ]
  },
  {
   "cell_type": "code",
   "execution_count": null,
   "id": "021d40df",
   "metadata": {},
   "outputs": [],
   "source": [
    "print(x)"
   ]
  },
  {
   "cell_type": "code",
   "execution_count": 12,
   "id": "b0cc24d4",
   "metadata": {
    "scrolled": true
   },
   "outputs": [
    {
     "name": "stdout",
     "output_type": "stream",
     "text": [
      "x > y  is True\n",
      "x < y  is False\n",
      "x == y is False\n",
      "x != y is True\n",
      "x >= y is True\n",
      "x <= y is False\n"
     ]
    }
   ],
   "source": [
    "\n",
    "# Output: x > y is False\n",
    "print('x > y  is',x>y)\n",
    "# Output: x < y is True\n",
    "print('x < y  is',x<y)\n",
    "# Output: x == y is False\n",
    "print('x == y is',x==y)\n",
    "# Output: x != y is True\n",
    "print('x != y is',x!=y)\n",
    "# Output: x >= y is False\n",
    "print('x >= y is',x>=y)\n",
    "# Output: x <= y is True\n",
    "print('x <= y is',x<=y)"
   ]
  },
  {
   "cell_type": "code",
   "execution_count": 13,
   "id": "e78ae4d3",
   "metadata": {},
   "outputs": [],
   "source": [
    "# x ve y boolean değeler atadık"
   ]
  },
  {
   "cell_type": "code",
   "execution_count": 14,
   "id": "dbde0e37",
   "metadata": {},
   "outputs": [
    {
     "name": "stdout",
     "output_type": "stream",
     "text": [
      "x and y is False\n",
      "x or y is True\n",
      "not x is False True\n"
     ]
    }
   ],
   "source": [
    "x = True\n",
    "y = False\n",
    "# Output: x and y is False\n",
    "\n",
    "print('x and y is',x and y)         # and operatörü varsa  True | False   => Doğru olabilmesi için ikisinin de True olması gerekir\n",
    "# Output: x or y is True\n",
    "\n",
    "print('x or y is',x or y)               # or operatörü varsa  True | False   => Doğru olabilmesi için bir tanesinin True olması yeterlidir\n",
    "# Output: not x is False\n",
    "\n",
    "print('not x is',not x,not y)                  #not operatörü varsa "
   ]
  },
  {
   "cell_type": "code",
   "execution_count": 15,
   "id": "509f8ff1",
   "metadata": {},
   "outputs": [
    {
     "name": "stdout",
     "output_type": "stream",
     "text": [
      "True\n",
      "True\n",
      "False\n"
     ]
    }
   ],
   "source": [
    "a=1\n",
    "b = 2\n",
    "c = 3\n",
    "print((a < b) & (a < c))            #  and operatörü\n",
    "print((a < b) and (a < c))        # and operatörü\n",
    "print((a > c) or (b > c))                 # or operatörü"
   ]
  },
  {
   "cell_type": "code",
   "execution_count": 1,
   "id": "80233b61",
   "metadata": {},
   "outputs": [
    {
     "name": "stdout",
     "output_type": "stream",
     "text": [
      "adınız: test\n",
      "kilonuz: 67\n",
      "boyunuz: 170\n",
      "test kilo indeksin: 0.0023183391003460205 ve kilo değerlendirmen zayıf: True\n",
      "test kilo indeksin: 0.0023183391003460205 ve kilo değerlendirmen normal: False\n",
      "test kilo indeksin: 0.0023183391003460205 ve kilo değerlendirmen kilolu: False\n",
      "test kilo indeksin: 0.0023183391003460205 ve kilo değerlendirmen obez: False\n"
     ]
    }
   ],
   "source": [
    "name = input('adınız: ')        # name adında bir değişken oluşturduk ve bunun tipi string türünde\n",
    "kg = float(input('kilonuz: '))   # kg adında bir değişken oluşturduk ve bunun tipi float\n",
    "hg = float(input('boyunuz: '))  # hg adında bir değişken oluşturduk ve bunun tipi float\n",
    "\n",
    "index = (kg) / (hg ** 2)    # index adında bir değişken tanımladık\n",
    "                                            # tanımlamış olduğumuz index değişkenine matematiksel işlemler yaptırdık\n",
    "\n",
    "zayif = (index >= 0) and (index<=18.4)  #zayif=> TRUE\n",
    "normal = (index>18.4) and (index<=24.9)\n",
    "kilolu = (index>24.9) and (index<=29.9)\n",
    "obez = (index>=29.9) and (index<=34.9)\n",
    "\n",
    "print(f'{name} kilo indeksin: {index} ve kilo değerlendirmen zayıf: {zayif}')\n",
    "print(f'{name} kilo indeksin: {index} ve kilo değerlendirmen normal: {normal}')\n",
    "print(f'{name} kilo indeksin: {index} ve kilo değerlendirmen kilolu: {kilolu}')\n",
    "print(f'{name} kilo indeksin: {index} ve kilo değerlendirmen obez: {obez}')"
   ]
  },
  {
   "cell_type": "code",
   "execution_count": 2,
   "id": "17f78f5c",
   "metadata": {},
   "outputs": [],
   "source": [
    "#Kullanıcıdan ad soyad bilgisi alınacak\n",
    "#Ders ve sınav notu puanı bilgisi alınacak\n",
    "#Dersten kaldı ya da geçti sonucunu ekrana yazdıran kod bloğunu yazınız"
   ]
  },
  {
   "cell_type": "code",
   "execution_count": 3,
   "id": "e327032c",
   "metadata": {},
   "outputs": [],
   "source": [
    "#Kullanıcıdan bulunduğu şehir bilgisi istenilecek\n",
    "# Havanın durumunu girmesini isteyelim ( Güneşli, yağmurlu, fırtınalı, rüzgarlı, karlı)\n",
    "# Hava sıcaklığını ortalama tahmin edelim"
   ]
  },
  {
   "cell_type": "code",
   "execution_count": 4,
   "id": "4d4f20f2",
   "metadata": {},
   "outputs": [
    {
     "name": "stdout",
     "output_type": "stream",
     "text": [
      "Adiniz: Seda \n",
      "Soyadiniz: Kilinc\n",
      "Ders: Edebiyat\n",
      "Ders Notu:87\n"
     ]
    }
   ],
   "source": [
    "Name=input('Adiniz: ')\n",
    "Lastname=input('Soyadiniz: ')\n",
    "Lesson=input('Ders: ')\n",
    "Grades=float(input('Ders Notu:'))"
   ]
  },
  {
   "cell_type": "code",
   "execution_count": 5,
   "id": "bdfed722",
   "metadata": {},
   "outputs": [
    {
     "name": "stdout",
     "output_type": "stream",
     "text": [
      "Adiniz: Seda \n",
      "Soyadiniz: Kilinc \n",
      "Ders: Edebiyat\n",
      "Ders Notu:87\n",
      "Seda  Pass indeksin: 0 gecis notun: True\n",
      "Seda  Fail indeksin: 0 dersten kalman: False\n",
      "Seda  Retake indeksin: 0 butunlemeye kalmak: False\n"
     ]
    }
   ],
   "source": [
    "Name=input('Adiniz: ')\n",
    "Lastname=input('Soyadiniz: ')\n",
    "Lesson=input('Ders: ')\n",
    "Grades=float(input('Ders Notu:'))\n",
    "index=0\n",
    "\n",
    "\n",
    "\n",
    "Pass = (index >= 0) and (index<=18.4)  \n",
    "Fail = (index>18.4) and (index<=24.9)\n",
    "Retake = (index>24.9) and (index<=29.9)\n",
    "\n",
    "\n",
    "print(f'{Name} Pass indeksin: {index} gecis notun: {Pass}') \n",
    "print(f'{Name} Fail indeksin: {index} dersten kalman: {Fail}')\n",
    "print(f'{Name} Retake indeksin: {index} butunlemeye kalmak: {Retake}')\n",
    "\n",
    "\n"
   ]
  },
  {
   "cell_type": "code",
   "execution_count": 7,
   "id": "23ee8bde",
   "metadata": {},
   "outputs": [
    {
     "name": "stdout",
     "output_type": "stream",
     "text": [
      "Sehir girinizNewYork\n",
      "YagmurluLongisland\n",
      "GuesliShirley\n",
      "RuzgarliWesthampton \n",
      "KarliToronto\n",
      "Hava Sicakligi:32\n",
      "NewYork Rainy indeksin: 0 Yagmurlu: True\n",
      "NewYork Sunny indeksin: 0 Karli: Shirley\n",
      "NewYork Windy indeksin: 0 Ruzgarli: False\n",
      "NewYork Snowy indeksin: 0 Karli indeksin: False\n"
     ]
    }
   ],
   "source": [
    "City=input('Sehir giriniz')\n",
    "Rainy=input('Yagmurlu')\n",
    "Sunny=input('Guesli')\n",
    "Windy=input('Ruzgarli')\n",
    "Snowy=input('Karli')\n",
    "Tempeture=float(input('Hava Sicakligi:'))\n",
    "\n",
    "index=0\n",
    "\n",
    "Rainy = (index >= 0) and (index<=18.4)  \n",
    "Snowy = (index>18.4) and (index<=24.9)\n",
    "Windy = (index>24.9) and (index<=29.9)\n",
    "Snowy = (index>=29.9) and (index<=34.9)\n",
    "\n",
    "print(f'{City} Rainy indeksin: {index} Yagmurlu: {Rainy}') \n",
    "print(f'{City} Sunny indeksin: {index} Karli: {Sunny}')\n",
    "print(f'{City} Windy indeksin: {index} Ruzgarli: {Windy}')\n",
    "print(f'{City} Snowy indeksin: {index} Karli indeksin: {Snowy}')"
   ]
  },
  {
   "cell_type": "code",
   "execution_count": null,
   "id": "41b2b533",
   "metadata": {},
   "outputs": [],
   "source": []
  }
 ],
 "metadata": {
  "kernelspec": {
   "display_name": "Python 3 (ipykernel)",
   "language": "python",
   "name": "python3"
  },
  "language_info": {
   "codemirror_mode": {
    "name": "ipython",
    "version": 3
   },
   "file_extension": ".py",
   "mimetype": "text/x-python",
   "name": "python",
   "nbconvert_exporter": "python",
   "pygments_lexer": "ipython3",
   "version": "3.9.12"
  }
 },
 "nbformat": 4,
 "nbformat_minor": 5
}
