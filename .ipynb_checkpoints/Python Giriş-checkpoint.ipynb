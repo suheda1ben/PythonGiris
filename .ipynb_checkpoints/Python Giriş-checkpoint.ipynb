{
 "cells": [
  {
   "cell_type": "markdown",
   "id": "939d62f5",
   "metadata": {},
   "source": [
    "# Python Değişkenler"
   ]
  },
  {
   "cell_type": "code",
   "execution_count": 3,
   "id": "4f7652a5",
   "metadata": {},
   "outputs": [
    {
     "name": "stdout",
     "output_type": "stream",
     "text": [
      "5\n"
     ]
    },
    {
     "data": {
      "text/plain": [
       "5"
      ]
     },
     "execution_count": 3,
     "metadata": {},
     "output_type": "execute_result"
    }
   ],
   "source": [
    "x=5     # int değişken 1,2,3,4,5,6,7,8,9.....\n",
    "print(x)\n",
    "x\n",
    "x\n"
   ]
  },
  {
   "cell_type": "code",
   "execution_count": 2,
   "id": "c08a78de",
   "metadata": {},
   "outputs": [
    {
     "name": "stdout",
     "output_type": "stream",
     "text": [
      "5\n"
     ]
    }
   ],
   "source": [
    "y='5' #string değişken yazı karakterleri\n",
    "print(y)"
   ]
  },
  {
   "cell_type": "code",
   "execution_count": 3,
   "id": "a13723f2",
   "metadata": {},
   "outputs": [
    {
     "ename": "TypeError",
     "evalue": "unsupported operand type(s) for +: 'int' and 'str'",
     "output_type": "error",
     "traceback": [
      "\u001b[0;31m---------------------------------------------------------------------------\u001b[0m",
      "\u001b[0;31mTypeError\u001b[0m                                 Traceback (most recent call last)",
      "Input \u001b[0;32mIn [3]\u001b[0m, in \u001b[0;36m<cell line: 1>\u001b[0;34m()\u001b[0m\n\u001b[0;32m----> 1\u001b[0m sonuc\u001b[38;5;241m=\u001b[39m\u001b[43mx\u001b[49m\u001b[38;5;241;43m+\u001b[39;49m\u001b[43my\u001b[49m\n\u001b[1;32m      2\u001b[0m sonuc\n",
      "\u001b[0;31mTypeError\u001b[0m: unsupported operand type(s) for +: 'int' and 'str'"
     ]
    }
   ],
   "source": [
    "sonuc=x+y\n",
    "sonuc"
   ]
  },
  {
   "cell_type": "code",
   "execution_count": null,
   "id": "3cc16062",
   "metadata": {},
   "outputs": [],
   "source": [
    "z=0.4 #float değişken ondalıklı sayılar Para Birimleri, Sıcaklık Değerleri, Ölçümler Ağırlık "
   ]
  },
  {
   "cell_type": "code",
   "execution_count": 4,
   "id": "b1688493",
   "metadata": {},
   "outputs": [
    {
     "name": "stdout",
     "output_type": "stream",
     "text": [
      "12\n"
     ]
    }
   ],
   "source": [
    "x= 5 \n",
    "y=7\n",
    "sonuc=x+y\n",
    "print(sonuc)"
   ]
  },
  {
   "cell_type": "code",
   "execution_count": 6,
   "id": "a170d1ce",
   "metadata": {},
   "outputs": [
    {
     "name": "stdout",
     "output_type": "stream",
     "text": [
      "Merhaba dünya\n"
     ]
    }
   ],
   "source": [
    "x='Merhaba'\n",
    "y='dünya'\n",
    "sonuc=x+\" \"+y\n",
    "print(sonuc)"
   ]
  },
  {
   "cell_type": "code",
   "execution_count": 8,
   "id": "fce8415d",
   "metadata": {},
   "outputs": [
    {
     "name": "stdout",
     "output_type": "stream",
     "text": [
      "Merhaba dünya 2022\n"
     ]
    }
   ],
   "source": [
    "x='Merhaba'\n",
    "y='dünya'\n",
    "z=2022\n",
    "sonuc=x+\" \"+y+\" \"+str(z)  # Stringe çevirmek için kullanıyoruz\n",
    "print(sonuc)"
   ]
  },
  {
   "cell_type": "code",
   "execution_count": 13,
   "id": "61b43429",
   "metadata": {},
   "outputs": [
    {
     "name": "stdout",
     "output_type": "stream",
     "text": [
      "4020\n"
     ]
    }
   ],
   "source": [
    "x=2022\n",
    "z='1998'\n",
    "sonuc=x+int(z)   #int() integer a çevirmek için kullanıyoruz.\n",
    "print(sonuc)"
   ]
  },
  {
   "cell_type": "code",
   "execution_count": 14,
   "id": "b6d48aef",
   "metadata": {},
   "outputs": [],
   "source": [
    "x= \"Python\"\n",
    "y=\"muhteşem\""
   ]
  },
  {
   "cell_type": "code",
   "execution_count": 16,
   "id": "b8d810ac",
   "metadata": {},
   "outputs": [
    {
     "name": "stdout",
     "output_type": "stream",
     "text": [
      "Python muhteşem\n"
     ]
    }
   ],
   "source": [
    "print(x+ \" \"+y)"
   ]
  },
  {
   "cell_type": "code",
   "execution_count": 17,
   "id": "8a7b9092",
   "metadata": {},
   "outputs": [
    {
     "name": "stdout",
     "output_type": "stream",
     "text": [
      "15\n"
     ]
    }
   ],
   "source": [
    "x=5\n",
    "y=10\n",
    "print(x+y)"
   ]
  },
  {
   "cell_type": "code",
   "execution_count": 18,
   "id": "e0f4e556",
   "metadata": {},
   "outputs": [],
   "source": [
    "x=5\n",
    "y='Dünya'"
   ]
  },
  {
   "cell_type": "code",
   "execution_count": 19,
   "id": "bc3ce61e",
   "metadata": {},
   "outputs": [
    {
     "name": "stdout",
     "output_type": "stream",
     "text": [
      "5 Dünya\n"
     ]
    }
   ],
   "source": [
    "print(str(x)+ \" \"+y)"
   ]
  },
  {
   "cell_type": "code",
   "execution_count": 20,
   "id": "89e7db00",
   "metadata": {},
   "outputs": [
    {
     "name": "stdout",
     "output_type": "stream",
     "text": [
      "<class 'int'>\n"
     ]
    }
   ],
   "source": [
    "x=5\n",
    "print(type(x))   # x in veri tipine baktık"
   ]
  },
  {
   "cell_type": "code",
   "execution_count": 21,
   "id": "52d30825",
   "metadata": {},
   "outputs": [
    {
     "name": "stdout",
     "output_type": "stream",
     "text": [
      "<class 'str'>\n"
     ]
    }
   ],
   "source": [
    "y='5'\n",
    "print(type(y))"
   ]
  },
  {
   "cell_type": "code",
   "execution_count": 22,
   "id": "3fccd011",
   "metadata": {},
   "outputs": [
    {
     "name": "stdout",
     "output_type": "stream",
     "text": [
      "<class 'float'>\n"
     ]
    }
   ],
   "source": [
    "z=0.4\n",
    "print(type(z))"
   ]
  },
  {
   "cell_type": "code",
   "execution_count": 85,
   "id": "7b530962",
   "metadata": {},
   "outputs": [
    {
     "name": "stdout",
     "output_type": "stream",
     "text": [
      "2076\n"
     ]
    }
   ],
   "source": [
    "x='1988'  #String\n",
    "y=85        #Integer\n",
    "z=3.8       #Float\n",
    "\n",
    "# x+y+z?\n",
    "\n",
    "print(int(x)+y+int(z))"
   ]
  },
  {
   "cell_type": "code",
   "execution_count": 28,
   "id": "e6308403",
   "metadata": {},
   "outputs": [
    {
     "name": "stdout",
     "output_type": "stream",
     "text": [
      "Mesajınız: Merheba\n",
      "Sizden gelen mesaj Merheba\n"
     ]
    }
   ],
   "source": [
    "mesaj=input('Mesajınız: ')\n",
    "print('Sizden gelen mesaj'+\" \"+ mesaj)  #String degisken aldik kullanicidan."
   ]
  },
  {
   "cell_type": "code",
   "execution_count": 86,
   "id": "e3ec15d1",
   "metadata": {},
   "outputs": [
    {
     "name": "stdout",
     "output_type": "stream",
     "text": [
      "Birinci rakam : 15\n",
      "İkinci rakam : 22\n"
     ]
    }
   ],
   "source": [
    "x=int(input('Birinci rakam : '))\n",
    "y=int(input('İkinci rakam : '))   #Kullanicidan x ve y degeri aldik int tipinde."
   ]
  },
  {
   "cell_type": "code",
   "execution_count": 87,
   "id": "21a3e85e",
   "metadata": {},
   "outputs": [],
   "source": [
    "sonuc=x+y"
   ]
  },
  {
   "cell_type": "code",
   "execution_count": 88,
   "id": "5eb06da2",
   "metadata": {},
   "outputs": [
    {
     "data": {
      "text/plain": [
       "37"
      ]
     },
     "execution_count": 88,
     "metadata": {},
     "output_type": "execute_result"
    }
   ],
   "source": [
    "sonuc  #Bu ifade string"
   ]
  },
  {
   "cell_type": "code",
   "execution_count": 37,
   "id": "b282f970",
   "metadata": {},
   "outputs": [
    {
     "name": "stdout",
     "output_type": "stream",
     "text": [
      "Lütfen adınızı giriniz :test\n",
      "Lütfen yaşınızı giriniz :18\n",
      "Sınıf bilginiz :b\n",
      "Maaş bilginiz : 3.4\n"
     ]
    }
   ],
   "source": [
    "Name=input(\"Lütfen adınızı giriniz :\")      #string\n",
    "yas=int(input(\"Lütfen yaşınızı giriniz :\")) # int\n",
    "sinif=input(\"Sınıf bilginiz :\")                        #string\n",
    "maas=float(input(\"Maaş bilginiz : \"))         #float"
   ]
  },
  {
   "cell_type": "code",
   "execution_count": 38,
   "id": "db1c0c2e",
   "metadata": {},
   "outputs": [
    {
     "name": "stdout",
     "output_type": "stream",
     "text": [
      "3.4\n"
     ]
    }
   ],
   "source": [
    "print(maas)"
   ]
  },
  {
   "cell_type": "code",
   "execution_count": 39,
   "id": "79d07438",
   "metadata": {},
   "outputs": [
    {
     "name": "stdout",
     "output_type": "stream",
     "text": [
      "test b\n"
     ]
    }
   ],
   "source": [
    "print(Name+\" \"+ sinif)"
   ]
  },
  {
   "cell_type": "code",
   "execution_count": 42,
   "id": "4dc238c4",
   "metadata": {},
   "outputs": [
    {
     "name": "stdout",
     "output_type": "stream",
     "text": [
      "Please write your name :Suheda\n",
      "Please write your degree :Bachelor\n",
      "Please write your date of :1989\n"
     ]
    }
   ],
   "source": [
    "Lastname=input(\"Please write your name :\")\n",
    "Degree=input(\"Please write your degree :\")\n",
    "dateOfYear=int(input(\"Please write your date of :\"))\n",
    "\n",
    "\n",
    "\n",
    "#dateOfYear\n",
    "#Date_of_year\n",
    "#Dateofyear"
   ]
  },
  {
   "cell_type": "code",
   "execution_count": 43,
   "id": "f205e09d",
   "metadata": {},
   "outputs": [
    {
     "name": "stdout",
     "output_type": "stream",
     "text": [
      "1999\n"
     ]
    }
   ],
   "source": [
    "print(dateOfYear+ 10)"
   ]
  },
  {
   "cell_type": "code",
   "execution_count": 46,
   "id": "61d3553f",
   "metadata": {},
   "outputs": [
    {
     "name": "stdout",
     "output_type": "stream",
     "text": [
      "Bachelor StonyBrook\n"
     ]
    }
   ],
   "source": [
    "print(Degree+ \" \" +\"StonyBrook\")  #Burdaki Stonybrook string ifadeyi ekledik"
   ]
  },
  {
   "cell_type": "code",
   "execution_count": 52,
   "id": "0a9039ac",
   "metadata": {},
   "outputs": [
    {
     "name": "stdout",
     "output_type": "stream",
     "text": [
      "Suheda1989\n"
     ]
    }
   ],
   "source": [
    "print(Lastname + str(dateOfYear))   #Tür dönüşümü yaptık"
   ]
  },
  {
   "cell_type": "code",
   "execution_count": 53,
   "id": "fb3c0c57",
   "metadata": {},
   "outputs": [],
   "source": [
    "cumle1=\"kelimeler\"\n",
    "cumle2=\"BENIM bilgisayarım\""
   ]
  },
  {
   "cell_type": "code",
   "execution_count": 54,
   "id": "ee1b8544",
   "metadata": {},
   "outputs": [
    {
     "name": "stdout",
     "output_type": "stream",
     "text": [
      "KELIMELER\n"
     ]
    }
   ],
   "source": [
    "print(cumle1.upper())    #NLP   #Sentiement Analyz   #Büyük harflere çevirdik"
   ]
  },
  {
   "cell_type": "code",
   "execution_count": 55,
   "id": "fd3d6605",
   "metadata": {},
   "outputs": [
    {
     "name": "stdout",
     "output_type": "stream",
     "text": [
      "benim bilgisayarım\n"
     ]
    }
   ],
   "source": [
    "print(cumle2.lower())    #Küçük harflere çevirdik"
   ]
  },
  {
   "cell_type": "code",
   "execution_count": 56,
   "id": "aaf30d15",
   "metadata": {},
   "outputs": [],
   "source": [
    "#my_str => #Değişkenin string olduğunu belli ettik"
   ]
  },
  {
   "cell_type": "code",
   "execution_count": 78,
   "id": "91090aaf",
   "metadata": {},
   "outputs": [
    {
     "name": "stdout",
     "output_type": "stream",
     "text": [
      "Please enter your color :blue\n",
      "Please enter your favorite animal :dog\n",
      "Please enter your number of the car :20\n"
     ]
    }
   ],
   "source": [
    "Color=input(\"Please enter your color :\")\n",
    "Favorite_animal=input(\"Please enter your favorite animal :\")\n",
    "Number_of_your_car=int(input(\"Please enter your number of the car :\"))"
   ]
  },
  {
   "cell_type": "code",
   "execution_count": 79,
   "id": "ed39b59c",
   "metadata": {},
   "outputs": [
    {
     "name": "stdout",
     "output_type": "stream",
     "text": [
      "20 dog\n",
      "20 DOG\n",
      "20 DOG\n"
     ]
    }
   ],
   "source": [
    "# Car sayısını ve hayvan adını birleştirerek\n",
    "#Yeni bir değişkene atayıp\n",
    "#Ekrana büyük hraflerle yazdıralım\n",
    "\n",
    "tekCumle= str(Number_of_your_car)+\" \" +Favorite_animal\n",
    "print(tekCumle)\n",
    "\n",
    "print(tekCumle.upper())\n",
    "\n",
    "print((str(Number_of_your_car)+\" \" +Favorite_animal).upper())\n",
    "\n"
   ]
  },
  {
   "cell_type": "code",
   "execution_count": null,
   "id": "aa33413c",
   "metadata": {},
   "outputs": [],
   "source": [
    "# 3 Değişken olacak int string float tanımlayalım"
   ]
  },
  {
   "cell_type": "code",
   "execution_count": 95,
   "id": "c95c934c",
   "metadata": {},
   "outputs": [
    {
     "name": "stdout",
     "output_type": "stream",
     "text": [
      "55 Don't worry!Be happy! 2.5\n"
     ]
    }
   ],
   "source": [
    "x=55  #integer\n",
    "y=\"Don't worry!Be happy!\"  #string\n",
    "z=2.5   #float\n",
    "\n",
    "print(str(x)+\" \"+y+\" \"+str(z))"
   ]
  },
  {
   "cell_type": "code",
   "execution_count": null,
   "id": "8f4c4cb8",
   "metadata": {},
   "outputs": [],
   "source": []
  }
 ],
 "metadata": {
  "kernelspec": {
   "display_name": "Python 3 (ipykernel)",
   "language": "python",
   "name": "python3"
  },
  "language_info": {
   "codemirror_mode": {
    "name": "ipython",
    "version": 3
   },
   "file_extension": ".py",
   "mimetype": "text/x-python",
   "name": "python",
   "nbconvert_exporter": "python",
   "pygments_lexer": "ipython3",
   "version": "3.9.12"
  }
 },
 "nbformat": 4,
 "nbformat_minor": 5
}
