{
 "cells": [
  {
   "cell_type": "markdown",
   "id": "1660a7b6",
   "metadata": {},
   "source": [
    "Eşittir: a == b\n",
    "Eşit değildir: a != b\n",
    "Küçüktür: a < b\n",
    "Küçük ya da eşittir: a <= b\n",
    "Büyüktür: a > b\n",
    "Büyük ya da eşittir: a >= b"
   ]
  },
  {
   "cell_type": "code",
   "execution_count": 22,
   "id": "03b6f46d",
   "metadata": {},
   "outputs": [],
   "source": [
    "x=27\n",
    "y=18"
   ]
  },
  {
   "cell_type": "code",
   "execution_count": 9,
   "id": "6baa274a",
   "metadata": {},
   "outputs": [
    {
     "name": "stdout",
     "output_type": "stream",
     "text": [
      "x y den buyuktur\n"
     ]
    }
   ],
   "source": [
    "if x>y:\n",
    "    print('x y den buyuktur')\n",
    "elif x<y:\n",
    "    print(\"x y den küçüktür\")"
   ]
  },
  {
   "cell_type": "code",
   "execution_count": 23,
   "id": "ba2a365d",
   "metadata": {},
   "outputs": [
    {
     "name": "stdout",
     "output_type": "stream",
     "text": [
      "x y den buyuktur\n",
      "x y ye esit degildir\n",
      "x y den buyuktur ya da eşittir\n"
     ]
    }
   ],
   "source": [
    "if x>y:\n",
    "    print('x y den buyuktur')\n",
    "elif x<y:\n",
    "    print(\"x y den küçüktür\")\n",
    "if x==y:\n",
    "    print('x y ye esittir')\n",
    "elif x != y:\n",
    "    print('x y ye esit degildir')\n",
    "if x<=y:\n",
    "    print('x kucuk yada esittir')\n",
    "elif x>=y:\n",
    "    print('x y den buyuktur ya da eşittir')"
   ]
  },
  {
   "cell_type": "code",
   "execution_count": 29,
   "id": "bd3f0e04",
   "metadata": {},
   "outputs": [
    {
     "name": "stdout",
     "output_type": "stream",
     "text": [
      "Adiniz: TEST\n",
      "Soyadiniz: TEST\n",
      "Ders: TEST\n",
      "Ders Notu:69\n",
      "Tekrar\n"
     ]
    }
   ],
   "source": [
    "Name=input('Adiniz: ')\n",
    "Lastname=input('Soyadiniz: ')\n",
    "Lesson=input('Ders: ')\n",
    "Grades=float(input('Ders Notu:'))\n",
    "\n",
    "\n",
    "if Grades >= 70 and Grades<=100:\n",
    "    print('Gecti')\n",
    "elif Grades> 0 and Grades <=48:\n",
    "    print('Kaldi')\n",
    "if Grades >51 and Grades <=69:\n",
    "    print('Tekrar')\n",
    "\n",
    "\n",
    " \n",
    "#GEÇTİ   70 VE ÜZERİ\n",
    "#KALDI 0-48 NOT ARALIĞI\n",
    "#TEKRAR  48-69 NOT ARALIĞI\n",
    " \n",
    "\n"
   ]
  },
  {
   "cell_type": "code",
   "execution_count": 42,
   "id": "e9af2929",
   "metadata": {},
   "outputs": [],
   "source": [
    "favYear=['graduation','celebration',2007,'mygirls2',2010,2019]"
   ]
  },
  {
   "cell_type": "code",
   "execution_count": 31,
   "id": "9b14e72e",
   "metadata": {},
   "outputs": [
    {
     "name": "stdout",
     "output_type": "stream",
     "text": [
      "graduation\n",
      "celebration\n",
      "2007\n",
      "mygirls\n",
      "2010\n",
      "2019\n"
     ]
    }
   ],
   "source": [
    "for i in favYear:\n",
    "    print(i)"
   ]
  },
  {
   "cell_type": "code",
   "execution_count": 34,
   "id": "e157055c",
   "metadata": {},
   "outputs": [
    {
     "name": "stdout",
     "output_type": "stream",
     "text": [
      "Bu eleman yok\n",
      "Bu eleman yok\n",
      "Bu eleman yok\n",
      "Bu eleman yok\n",
      "Bu eleman yok\n"
     ]
    }
   ],
   "source": [
    "for i in favYear:\n",
    "    if i == 2011:\n",
    "        print('bu eleman mevcut')\n",
    "    elif i!=2010:\n",
    "        print(\"Bu eleman yok\")"
   ]
  },
  {
   "cell_type": "code",
   "execution_count": 36,
   "id": "e9e5b0ec",
   "metadata": {},
   "outputs": [
    {
     "data": {
      "text/plain": [
       "6"
      ]
     },
     "execution_count": 36,
     "metadata": {},
     "output_type": "execute_result"
    }
   ],
   "source": [
    " len(favYear)   #eleman sayisini bulduk."
   ]
  },
  {
   "cell_type": "code",
   "execution_count": null,
   "id": "a37f98ef",
   "metadata": {},
   "outputs": [],
   "source": [
    "favYear[3]"
   ]
  },
  {
   "cell_type": "code",
   "execution_count": 46,
   "id": "658fa8b9",
   "metadata": {},
   "outputs": [
    {
     "name": "stdout",
     "output_type": "stream",
     "text": [
      "Bulunamadı\n",
      "Bulunamadı\n",
      "Bulunamadı\n",
      "my girls mevcuttur\n",
      "Bulunamadı\n",
      "Bulunamadı\n"
     ]
    }
   ],
   "source": [
    "for i in range(len(favYear)):\n",
    "    if favYear[i]=='mygirls2':\n",
    "        print('my girls mevcuttur')\n",
    "    elif favYear[i]!='mygirls':\n",
    "        print(\"Bulunamadı\")\n"
   ]
  },
  {
   "cell_type": "code",
   "execution_count": 47,
   "id": "ae1fd2d7",
   "metadata": {},
   "outputs": [],
   "source": [
    "luckyNumbers=[2,544,9877,0,411,22,55]"
   ]
  },
  {
   "cell_type": "code",
   "execution_count": 48,
   "id": "53fd23d3",
   "metadata": {},
   "outputs": [
    {
     "data": {
      "text/plain": [
       "7"
      ]
     },
     "execution_count": 48,
     "metadata": {},
     "output_type": "execute_result"
    }
   ],
   "source": [
    "len(luckyNumbers)"
   ]
  },
  {
   "cell_type": "code",
   "execution_count": 50,
   "id": "67507f9e",
   "metadata": {},
   "outputs": [
    {
     "name": "stdout",
     "output_type": "stream",
     "text": [
      "2\n",
      "544\n",
      "9877\n",
      "0\n",
      "411\n",
      "22\n",
      "55\n"
     ]
    }
   ],
   "source": [
    "for i in luckyNumbers:\n",
    "    print(i)\n",
    "    "
   ]
  },
  {
   "cell_type": "code",
   "execution_count": 53,
   "id": "037523b7",
   "metadata": {},
   "outputs": [
    {
     "name": "stdout",
     "output_type": "stream",
     "text": [
      "Repeat it again\n",
      "Repeat it again\n",
      "Repeat it again\n",
      "Repeat it again\n",
      "Repeat it again\n",
      "Repeat it again\n",
      "You got the lucky number\n"
     ]
    }
   ],
   "source": [
    "for i in range(len(luckyNumbers)):\n",
    "    if luckyNumbers[i]==55: \n",
    "        print('You got the lucky number')\n",
    "    elif luckyNumbers[i]!=55:\n",
    "            print('Repeat it again') "
   ]
  },
  {
   "cell_type": "code",
   "execution_count": 54,
   "id": "a35c1137",
   "metadata": {},
   "outputs": [],
   "source": [
    "import random # Rastgele sayı rakam türetmemize yarıyor"
   ]
  },
  {
   "cell_type": "code",
   "execution_count": 58,
   "id": "ca8dcff4",
   "metadata": {},
   "outputs": [
    {
     "name": "stdout",
     "output_type": "stream",
     "text": [
      "[267, 162, 926, 639, 480, 880, 652, 743, 908, 850, 584, 40, 292, 535, 484, 38, 395, 518, 874, 992]\n"
     ]
    }
   ],
   "source": [
    "luckyNumbers=random.sample(range(1000),20) # range(1000)  0-1000  arasında virgülden sonraki kısımda üretilecek olan sayı miktarı\n",
    "print(luckyNumbers)"
   ]
  },
  {
   "cell_type": "code",
   "execution_count": null,
   "id": "407ffff6",
   "metadata": {},
   "outputs": [],
   "source": [
    "# 0 ile 10000 arasında rastgele 35 sayı arasından çift olan sayıları ekrana yazdırma"
   ]
  }
 ],
 "metadata": {
  "kernelspec": {
   "display_name": "Python 3 (ipykernel)",
   "language": "python",
   "name": "python3"
  },
  "language_info": {
   "codemirror_mode": {
    "name": "ipython",
    "version": 3
   },
   "file_extension": ".py",
   "mimetype": "text/x-python",
   "name": "python",
   "nbconvert_exporter": "python",
   "pygments_lexer": "ipython3",
   "version": "3.9.12"
  }
 },
 "nbformat": 4,
 "nbformat_minor": 5
}
