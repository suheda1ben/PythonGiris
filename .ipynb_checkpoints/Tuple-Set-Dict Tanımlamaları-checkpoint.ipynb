{
 "cells": [
  {
   "cell_type": "code",
   "execution_count": 1,
   "id": "30d12061",
   "metadata": {},
   "outputs": [],
   "source": [
    "tupleList=('kalem','defter','binder',43,25)     # DEĞİŞTİRİLEMEZ\n",
    "diziList=[\"kalem\",\"defter\",\"binder\",43,25]   #DEĞİŞTİRİLEBİLİR"
   ]
  },
  {
   "cell_type": "code",
   "execution_count": 2,
   "id": "c710fb89",
   "metadata": {},
   "outputs": [
    {
     "data": {
      "text/plain": [
       "('kalem', 'defter', 'binder', 43, 25)"
      ]
     },
     "execution_count": 2,
     "metadata": {},
     "output_type": "execute_result"
    }
   ],
   "source": [
    "tupleList  #okuyabiliyorum ama degistiremiyorum."
   ]
  },
  {
   "cell_type": "code",
   "execution_count": 3,
   "id": "6d934520",
   "metadata": {},
   "outputs": [
    {
     "data": {
      "text/plain": [
       "43"
      ]
     },
     "execution_count": 3,
     "metadata": {},
     "output_type": "execute_result"
    }
   ],
   "source": [
    "tupleList[3]"
   ]
  },
  {
   "cell_type": "code",
   "execution_count": 6,
   "id": "32c6ae9a",
   "metadata": {},
   "outputs": [
    {
     "ename": "TypeError",
     "evalue": "'tuple' object does not support item assignment",
     "output_type": "error",
     "traceback": [
      "\u001b[0;31m---------------------------------------------------------------------------\u001b[0m",
      "\u001b[0;31mTypeError\u001b[0m                                 Traceback (most recent call last)",
      "Input \u001b[0;32mIn [6]\u001b[0m, in \u001b[0;36m<cell line: 1>\u001b[0;34m()\u001b[0m\n\u001b[0;32m----> 1\u001b[0m tupleList[\u001b[38;5;241m1\u001b[39m]\u001b[38;5;241m=\u001b[39m\u001b[38;5;124m'\u001b[39m\u001b[38;5;124msilgi\u001b[39m\u001b[38;5;124m'\u001b[39m\n",
      "\u001b[0;31mTypeError\u001b[0m: 'tuple' object does not support item assignment"
     ]
    }
   ],
   "source": [
    "tupleList[1]='silgi'\n",
    "\n"
   ]
  },
  {
   "cell_type": "code",
   "execution_count": 7,
   "id": "90b62e64",
   "metadata": {},
   "outputs": [
    {
     "data": {
      "text/plain": [
       "['kalem', 'defter', 'binder', 43, 25]"
      ]
     },
     "execution_count": 7,
     "metadata": {},
     "output_type": "execute_result"
    }
   ],
   "source": [
    "newList=list(tupleList)    # TÜR DÖNÜŞÜM İŞLEMLERİ  int(x) str(x)  float(x)\n",
    " newList"
   ]
  },
  {
   "cell_type": "code",
   "execution_count": 8,
   "id": "b6eee999",
   "metadata": {},
   "outputs": [],
   "source": [
    "newList[1]='silgi'\n",
    "print=newList"
   ]
  },
  {
   "cell_type": "code",
   "execution_count": 9,
   "id": "012997ad",
   "metadata": {},
   "outputs": [
    {
     "data": {
      "text/plain": [
       "['kalem', 'silgi', 'binder', 43, 25]"
      ]
     },
     "execution_count": 9,
     "metadata": {},
     "output_type": "execute_result"
    }
   ],
   "source": [
    "newList"
   ]
  },
  {
   "cell_type": "code",
   "execution_count": 10,
   "id": "18ac16b9",
   "metadata": {},
   "outputs": [],
   "source": [
    "benimList=tuple(('kivi',45,20,'hava')) #Constructor yapı kullanılarak tuple türünde bir dizi ürettik"
   ]
  },
  {
   "cell_type": "code",
   "execution_count": 11,
   "id": "86a46959",
   "metadata": {},
   "outputs": [
    {
     "data": {
      "text/plain": [
       "('kivi', 45, 20, 'hava')"
      ]
     },
     "execution_count": 11,
     "metadata": {},
     "output_type": "execute_result"
    }
   ],
   "source": [
    "benimList"
   ]
  },
  {
   "cell_type": "markdown",
   "id": "169f0fb9",
   "metadata": {},
   "source": [
    "# NOT: EĞER BİZE TUPLE TÜRÜNDE BİR DİZİ VERİLDİYSE ÖNCELİKLE LİST E ÇEVİRİP DAHA SONRA DİĞER İŞLEMLER YAPILACAK"
   ]
  },
  {
   "cell_type": "code",
   "execution_count": 22,
   "id": "9aa0b166",
   "metadata": {},
   "outputs": [
    {
     "data": {
      "text/plain": [
       "{'67', 'drama', 'funny', 'mor'}"
      ]
     },
     "execution_count": 22,
     "metadata": {},
     "output_type": "execute_result"
    }
   ],
   "source": [
    "setList={'mor','funny','drama','67'}\n",
    "setList"
   ]
  },
  {
   "cell_type": "code",
   "execution_count": 14,
   "id": "040ab7e8",
   "metadata": {},
   "outputs": [
    {
     "ename": "TypeError",
     "evalue": "'set' object is not subscriptable",
     "output_type": "error",
     "traceback": [
      "\u001b[0;31m---------------------------------------------------------------------------\u001b[0m",
      "\u001b[0;31mTypeError\u001b[0m                                 Traceback (most recent call last)",
      "Input \u001b[0;32mIn [14]\u001b[0m, in \u001b[0;36m<cell line: 1>\u001b[0;34m()\u001b[0m\n\u001b[0;32m----> 1\u001b[0m \u001b[43msetList\u001b[49m\u001b[43m[\u001b[49m\u001b[38;5;241;43m3\u001b[39;49m\u001b[43m]\u001b[49m\n",
      "\u001b[0;31mTypeError\u001b[0m: 'set' object is not subscriptable"
     ]
    }
   ],
   "source": [
    "setList[3]"
   ]
  },
  {
   "cell_type": "code",
   "execution_count": 19,
   "id": "1a61f05d",
   "metadata": {},
   "outputs": [
    {
     "ename": "TypeError",
     "evalue": "'list' object is not callable",
     "output_type": "error",
     "traceback": [
      "\u001b[0;31m---------------------------------------------------------------------------\u001b[0m",
      "\u001b[0;31mTypeError\u001b[0m                                 Traceback (most recent call last)",
      "Input \u001b[0;32mIn [19]\u001b[0m, in \u001b[0;36m<cell line: 1>\u001b[0;34m()\u001b[0m\n\u001b[1;32m      1\u001b[0m \u001b[38;5;28;01mfor\u001b[39;00m i \u001b[38;5;129;01min\u001b[39;00m setList:\n\u001b[0;32m----> 2\u001b[0m     \u001b[38;5;28;43mprint\u001b[39;49m\u001b[43m(\u001b[49m\u001b[43mi\u001b[49m\u001b[43m)\u001b[49m\n",
      "\u001b[0;31mTypeError\u001b[0m: 'list' object is not callable"
     ]
    }
   ],
   "source": [
    "for i in setList:\n",
    "    print(i)"
   ]
  },
  {
   "cell_type": "code",
   "execution_count": 23,
   "id": "293d8c01",
   "metadata": {},
   "outputs": [
    {
     "ename": "TypeError",
     "evalue": "'list' object is not callable",
     "output_type": "error",
     "traceback": [
      "\u001b[0;31m---------------------------------------------------------------------------\u001b[0m",
      "\u001b[0;31mTypeError\u001b[0m                                 Traceback (most recent call last)",
      "Input \u001b[0;32mIn [23]\u001b[0m, in \u001b[0;36m<cell line: 1>\u001b[0;34m()\u001b[0m\n\u001b[0;32m----> 1\u001b[0m \u001b[38;5;28;43mprint\u001b[39;49m\u001b[43m(\u001b[49m\u001b[38;5;124;43m\"\u001b[39;49m\u001b[38;5;124;43mmor\u001b[39;49m\u001b[38;5;124;43m\"\u001b[39;49m\u001b[43m \u001b[49m\u001b[38;5;129;43;01min\u001b[39;49;00m\u001b[43m \u001b[49m\u001b[43msetList\u001b[49m\u001b[43m)\u001b[49m\n",
      "\u001b[0;31mTypeError\u001b[0m: 'list' object is not callable"
     ]
    }
   ],
   "source": [
    "print(\"mor\" in setList)"
   ]
  },
  {
   "cell_type": "code",
   "execution_count": 24,
   "id": "296a9bab",
   "metadata": {},
   "outputs": [],
   "source": [
    "# Set Dizisine Eleman Ekleme /  Set verisini siralayamiyorum.Surekli degisebiliyolar."
   ]
  },
  {
   "cell_type": "code",
   "execution_count": 33,
   "id": "1edd50d3",
   "metadata": {},
   "outputs": [],
   "source": [
    "setList.add('yağmur')"
   ]
  },
  {
   "cell_type": "code",
   "execution_count": 34,
   "id": "9c99c20e",
   "metadata": {},
   "outputs": [
    {
     "data": {
      "text/plain": [
       "{'67', 'drama', 'funny', 'mor', 'yağmur'}"
      ]
     },
     "execution_count": 34,
     "metadata": {},
     "output_type": "execute_result"
    }
   ],
   "source": [
    "setList"
   ]
  },
  {
   "cell_type": "code",
   "execution_count": 35,
   "id": "bbbbe0e4",
   "metadata": {},
   "outputs": [],
   "source": [
    "setList.remove('yağmur')"
   ]
  },
  {
   "cell_type": "code",
   "execution_count": 36,
   "id": "c46ecc42",
   "metadata": {},
   "outputs": [
    {
     "data": {
      "text/plain": [
       "{'67', 'drama', 'funny', 'mor'}"
      ]
     },
     "execution_count": 36,
     "metadata": {},
     "output_type": "execute_result"
    }
   ],
   "source": [
    "setList"
   ]
  },
  {
   "cell_type": "code",
   "execution_count": 37,
   "id": "584ecf1a",
   "metadata": {},
   "outputs": [],
   "source": [
    "# DICT Diziler"
   ]
  },
  {
   "cell_type": "code",
   "execution_count": 39,
   "id": "bbf8dfca",
   "metadata": {},
   "outputs": [],
   "source": [
    "sozluk = {\n",
    "  \"uretici\": \"Renault\",\n",
    "  \"model\": \"Clio\",\n",
    "  \"yil\": 2009\n",
    "}"
   ]
  },
  {
   "cell_type": "code",
   "execution_count": 42,
   "id": "b2e5e161",
   "metadata": {},
   "outputs": [
    {
     "ename": "TypeError",
     "evalue": "'list' object is not callable",
     "output_type": "error",
     "traceback": [
      "\u001b[0;31m---------------------------------------------------------------------------\u001b[0m",
      "\u001b[0;31mTypeError\u001b[0m                                 Traceback (most recent call last)",
      "Input \u001b[0;32mIn [42]\u001b[0m, in \u001b[0;36m<cell line: 1>\u001b[0;34m()\u001b[0m\n\u001b[0;32m----> 1\u001b[0m \u001b[38;5;28;43mprint\u001b[39;49m\u001b[43m(\u001b[49m\u001b[43msozluk\u001b[49m\u001b[43m)\u001b[49m\n",
      "\u001b[0;31mTypeError\u001b[0m: 'list' object is not callable"
     ]
    }
   ],
   "source": [
    "print(sozluk)"
   ]
  },
  {
   "cell_type": "code",
   "execution_count": 52,
   "id": "be204417",
   "metadata": {},
   "outputs": [
    {
     "data": {
      "text/plain": [
       "['uretici', 'model', 'yil']"
      ]
     },
     "execution_count": 52,
     "metadata": {},
     "output_type": "execute_result"
    }
   ],
   "source": [
    "favList=sozluk['yil']\n",
    "favList=list(sozluk)\n",
    "favList"
   ]
  },
  {
   "cell_type": "code",
   "execution_count": 56,
   "id": "384d2b2b",
   "metadata": {},
   "outputs": [
    {
     "data": {
      "text/plain": [
       "['uretici', 'model', 'yil']"
      ]
     },
     "execution_count": 56,
     "metadata": {},
     "output_type": "execute_result"
    }
   ],
   "source": [
    "favList"
   ]
  },
  {
   "cell_type": "code",
   "execution_count": null,
   "id": "b5924823",
   "metadata": {},
   "outputs": [],
   "source": []
  }
 ],
 "metadata": {
  "kernelspec": {
   "display_name": "Python 3 (ipykernel)",
   "language": "python",
   "name": "python3"
  },
  "language_info": {
   "codemirror_mode": {
    "name": "ipython",
    "version": 3
   },
   "file_extension": ".py",
   "mimetype": "text/x-python",
   "name": "python",
   "nbconvert_exporter": "python",
   "pygments_lexer": "ipython3",
   "version": "3.9.12"
  }
 },
 "nbformat": 4,
 "nbformat_minor": 5
}
