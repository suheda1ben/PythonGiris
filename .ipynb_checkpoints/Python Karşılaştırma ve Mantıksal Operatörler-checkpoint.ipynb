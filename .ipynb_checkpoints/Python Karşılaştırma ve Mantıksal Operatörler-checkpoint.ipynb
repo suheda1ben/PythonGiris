{
 "cells": [
  {
   "cell_type": "markdown",
   "id": "d563b1ff",
   "metadata": {},
   "source": [
    "+: Add two operands or unary plus\n",
    "-: Subtract right operand from the left or unary minus\n",
    "*: Multiply two operands\n",
    "/: Divide left operand by the right one (always results into float)\n",
    "%: Modulus - remainder of the division of left operand by the right"
   ]
  },
  {
   "cell_type": "code",
   "execution_count": 3,
   "id": "eaf9b93c",
   "metadata": {},
   "outputs": [],
   "source": [
    "x=25\n",
    "y=16"
   ]
  },
  {
   "cell_type": "code",
   "execution_count": 4,
   "id": "9d97aed0",
   "metadata": {},
   "outputs": [
    {
     "name": "stdout",
     "output_type": "stream",
     "text": [
      "41\n"
     ]
    }
   ],
   "source": [
    "# Toplama İşlemi\n",
    "print(x+y)"
   ]
  },
  {
   "cell_type": "code",
   "execution_count": 5,
   "id": "c8ce9155",
   "metadata": {},
   "outputs": [
    {
     "name": "stdout",
     "output_type": "stream",
     "text": [
      "9\n"
     ]
    }
   ],
   "source": [
    "# Cikarma islerimi\n",
    "\n",
    "print(x-y)"
   ]
  },
  {
   "cell_type": "code",
   "execution_count": 6,
   "id": "9aabfeb8",
   "metadata": {},
   "outputs": [
    {
     "name": "stdout",
     "output_type": "stream",
     "text": [
      "-9\n"
     ]
    }
   ],
   "source": [
    "print(y-x)"
   ]
  },
  {
   "cell_type": "code",
   "execution_count": 7,
   "id": "2ce36186",
   "metadata": {},
   "outputs": [
    {
     "name": "stdout",
     "output_type": "stream",
     "text": [
      "400\n"
     ]
    }
   ],
   "source": [
    "#Carpma islemi\n",
    "print(x*y)"
   ]
  },
  {
   "cell_type": "code",
   "execution_count": 9,
   "id": "015ac979",
   "metadata": {},
   "outputs": [
    {
     "name": "stdout",
     "output_type": "stream",
     "text": [
      "1.5625\n"
     ]
    }
   ],
   "source": [
    "#Bolme islemi \n",
    "print(x/y)"
   ]
  },
  {
   "cell_type": "code",
   "execution_count": 10,
   "id": "76e5e713",
   "metadata": {},
   "outputs": [
    {
     "name": "stdout",
     "output_type": "stream",
     "text": [
      "9\n"
     ]
    }
   ],
   "source": [
    "#Mod alma \n",
    "print(x%y)"
   ]
  },
  {
   "cell_type": "code",
   "execution_count": 15,
   "id": "94ff7659",
   "metadata": {},
   "outputs": [
    {
     "name": "stdout",
     "output_type": "stream",
     "text": [
      "False\n"
     ]
    }
   ],
   "source": [
    "print('x/y'=='x*y')    #Fonksiyon icerisinde,karsilastirma operatorleri kullanarak sonuc alabilirz."
   ]
  },
  {
   "cell_type": "code",
   "execution_count": 16,
   "id": "d03a8636",
   "metadata": {},
   "outputs": [],
   "source": [
    "#Boolean yapılarda sonuc değeri True False değeri alır"
   ]
  },
  {
   "cell_type": "code",
   "execution_count": null,
   "id": "51aea30d",
   "metadata": {},
   "outputs": [],
   "source": [
    ">: Greater that - True if left operand is greater than the right\n",
    "<: Less that - True if left operand is less than the right\n",
    "==: Equal to - True if both operands are equal\n",
    "!=: Not equal to - True if operands are not equal\n",
    ">=: Greater than or equal to - True if left operand is greater than or equal to the right\n",
    "<=: Less than or equal to - True if left operand is less than or equal to the right"
   ]
  },
  {
   "cell_type": "code",
   "execution_count": 17,
   "id": "f02294e5",
   "metadata": {},
   "outputs": [
    {
     "name": "stdout",
     "output_type": "stream",
     "text": [
      "Lütfen rakam giriniz :55\n",
      "Ikinci bir rakam giriniz :25\n"
     ]
    }
   ],
   "source": [
    "x=int(input(\"Lütfen rakam giriniz :\"))\n",
    "y=int(input(\"Ikinci bir rakam giriniz :\"))"
   ]
  },
  {
   "cell_type": "code",
   "execution_count": 18,
   "id": "021d40df",
   "metadata": {},
   "outputs": [
    {
     "name": "stdout",
     "output_type": "stream",
     "text": [
      "55\n"
     ]
    }
   ],
   "source": [
    "print(x)"
   ]
  },
  {
   "cell_type": "code",
   "execution_count": 19,
   "id": "b0cc24d4",
   "metadata": {
    "scrolled": true
   },
   "outputs": [
    {
     "name": "stdout",
     "output_type": "stream",
     "text": [
      "x > y  is True\n",
      "x < y  is False\n",
      "x == y is False\n",
      "x != y is True\n",
      "x >= y is True\n",
      "x <= y is False\n"
     ]
    }
   ],
   "source": [
    "\n",
    "# Output: x > y is False\n",
    "print('x > y  is',x>y)\n",
    "# Output: x < y is True\n",
    "print('x < y  is',x<y)\n",
    "# Output: x == y is False\n",
    "print('x == y is',x==y)\n",
    "# Output: x != y is True\n",
    "print('x != y is',x!=y)\n",
    "# Output: x >= y is False\n",
    "print('x >= y is',x>=y)\n",
    "# Output: x <= y is True\n",
    "print('x <= y is',x<=y)"
   ]
  },
  {
   "cell_type": "code",
   "execution_count": null,
   "id": "e78ae4d3",
   "metadata": {},
   "outputs": [],
   "source": [
    "# x ve y boolean değeler atadık"
   ]
  },
  {
   "cell_type": "code",
   "execution_count": 28,
   "id": "dbde0e37",
   "metadata": {},
   "outputs": [
    {
     "name": "stdout",
     "output_type": "stream",
     "text": [
      "x and y is False\n",
      "x or y is True\n",
      "not x is False True\n"
     ]
    }
   ],
   "source": [
    "x = True\n",
    "y = False\n",
    "# Output: x and y is False\n",
    "\n",
    "print('x and y is',x and y)         # and operatörü varsa  True | False   => Doğru olabilmesi için ikisinin de True olması gerekir\n",
    "# Output: x or y is True\n",
    "\n",
    "print('x or y is',x or y)               # or operatörü varsa  True | False   => Doğru olabilmesi için bir tanesinin True olması yeterlidir\n",
    "# Output: not x is False\n",
    "\n",
    "print('not x is',not x,not y)                  #not operatörü varsa "
   ]
  },
  {
   "cell_type": "code",
   "execution_count": 35,
   "id": "509f8ff1",
   "metadata": {},
   "outputs": [
    {
     "name": "stdout",
     "output_type": "stream",
     "text": [
      "True\n",
      "True\n",
      "False\n"
     ]
    }
   ],
   "source": [
    "a=1\n",
    "b = 2\n",
    "c = 3\n",
    "print((a < b) & (a < c))            #  and operatörü\n",
    "print((a < b) and (a < c))        # and operatörü\n",
    "print((a > c) or (b > c))                 # or operatörü"
   ]
  },
  {
   "cell_type": "code",
   "execution_count": 40,
   "id": "80233b61",
   "metadata": {},
   "outputs": [
    {
     "name": "stdout",
     "output_type": "stream",
     "text": [
      "adınız: tesSt\n",
      "kilonuz: 50\n",
      "boyunuz: 170\n",
      "tesSt kilo indeksin: 0.0017301038062283738 ve kilo değerlendirmen zayıf: True\n",
      "tesSt kilo indeksin: 0.0017301038062283738 ve kilo değerlendirmen normal: False\n",
      "tesSt kilo indeksin: 0.0017301038062283738 ve kilo değerlendirmen kilolu: False\n",
      "tesSt kilo indeksin: 0.0017301038062283738 ve kilo değerlendirmen obez: False\n"
     ]
    }
   ],
   "source": [
    "name = input('adınız: ')    # name adında bir değişken oluşturduk \n",
    "kg = float(input('kilonuz: '))\n",
    "hg = float(input('boyunuz: '))\n",
    "\n",
    "index = (kg) / (hg ** 2)\n",
    "\n",
    "zayif = (index >= 0) and (index<=18.4)  \n",
    "normal = (index>18.4) and (index<=24.9)\n",
    "kilolu = (index>24.9) and (index<=29.9)\n",
    "obez = (index>=29.9) and (index<=34.9)\n",
    "\n",
    "print(f'{name} kilo indeksin: {index} ve kilo değerlendirmen zayıf: {zayif}')\n",
    "print(f'{name} kilo indeksin: {index} ve kilo değerlendirmen normal: {normal}')\n",
    "print(f'{name} kilo indeksin: {index} ve kilo değerlendirmen kilolu: {kilolu}')\n",
    "print(f'{name} kilo indeksin: {index} ve kilo değerlendirmen obez: {obez}')"
   ]
  },
  {
   "cell_type": "code",
   "execution_count": null,
   "id": "17f78f5c",
   "metadata": {},
   "outputs": [],
   "source": [
    "#Kullanıcıdan ad soyad bilgisi alınacak\n",
    "#Ders ve sınav notu puanı bilgisi alınacak\n",
    "#Dersten kaldı ya da geçti sonucunu ekrana yazdıran kod bloğunu yazınız"
   ]
  },
  {
   "cell_type": "code",
   "execution_count": 1,
   "id": "e327032c",
   "metadata": {},
   "outputs": [],
   "source": [
    "#Kullanıcıdan bulunduğu şehir bilgisi istenilecek\n",
    "# Havanın durumunu girmesini isteyelim ( Güneşli, yağmurlu, fırtınalı, rüzgarlı, karlı)\n",
    "# Hava sıcaklığını ortalama tahmin edelim"
   ]
  },
  {
   "cell_type": "code",
   "execution_count": 5,
   "id": "cf67a9f9",
   "metadata": {},
   "outputs": [
    {
     "name": "stdout",
     "output_type": "stream",
     "text": [
      "Adiniz: Seda \n",
      "Soyadiniz: Kilinc\n",
      "Ders: Edebiyat\n",
      "Ders Notu:92\n"
     ]
    }
   ],
   "source": [
    "Name=input('Adiniz: ')\n",
    "Lastname=input('Soyadiniz: ')\n",
    "Lesson=input('Ders: ')\n",
    "Grades=float(input('Ders Notu:'))\n",
    "\n"
   ]
  },
  {
   "cell_type": "code",
   "execution_count": 10,
   "id": "bdfed722",
   "metadata": {},
   "outputs": [
    {
     "name": "stdout",
     "output_type": "stream",
     "text": [
      "Adiniz: test\n",
      "Soyadiniz: test\n",
      "Ders: test\n",
      "Ders Notu:92\n"
     ]
    },
    {
     "ename": "NameError",
     "evalue": "name 'yuksek' is not defined",
     "output_type": "error",
     "traceback": [
      "\u001b[0;31m---------------------------------------------------------------------------\u001b[0m",
      "\u001b[0;31mNameError\u001b[0m                                 Traceback (most recent call last)",
      "Input \u001b[0;32mIn [10]\u001b[0m, in \u001b[0;36m<cell line: 14>\u001b[0;34m()\u001b[0m\n\u001b[1;32m     10\u001b[0m Fail \u001b[38;5;241m=\u001b[39m (index\u001b[38;5;241m>\u001b[39m\u001b[38;5;241m18.4\u001b[39m) \u001b[38;5;129;01mand\u001b[39;00m (index\u001b[38;5;241m<\u001b[39m\u001b[38;5;241m=\u001b[39m\u001b[38;5;241m24.9\u001b[39m)\n\u001b[1;32m     11\u001b[0m Retake \u001b[38;5;241m=\u001b[39m (index\u001b[38;5;241m>\u001b[39m\u001b[38;5;241m24.9\u001b[39m) \u001b[38;5;129;01mand\u001b[39;00m (index\u001b[38;5;241m<\u001b[39m\u001b[38;5;241m=\u001b[39m\u001b[38;5;241m29.9\u001b[39m)\n\u001b[0;32m---> 14\u001b[0m \u001b[38;5;28mprint\u001b[39m(\u001b[38;5;124mf\u001b[39m\u001b[38;5;124m'\u001b[39m\u001b[38;5;132;01m{\u001b[39;00mName\u001b[38;5;132;01m}\u001b[39;00m\u001b[38;5;124m Pass indeksin: \u001b[39m\u001b[38;5;132;01m{\u001b[39;00mindex\u001b[38;5;132;01m}\u001b[39;00m\u001b[38;5;124m gecis notun: \u001b[39m\u001b[38;5;132;01m{\u001b[39;00myuksek\u001b[38;5;132;01m}\u001b[39;00m\u001b[38;5;124m'\u001b[39m)\n\u001b[1;32m     15\u001b[0m \u001b[38;5;28mprint\u001b[39m(\u001b[38;5;124mf\u001b[39m\u001b[38;5;124m'\u001b[39m\u001b[38;5;132;01m{\u001b[39;00mName\u001b[38;5;132;01m}\u001b[39;00m\u001b[38;5;124m Fail indeksin: \u001b[39m\u001b[38;5;132;01m{\u001b[39;00mindex\u001b[38;5;132;01m}\u001b[39;00m\u001b[38;5;124m dersten kalman: \u001b[39m\u001b[38;5;132;01m{\u001b[39;00mdusuk\u001b[38;5;132;01m}\u001b[39;00m\u001b[38;5;124m'\u001b[39m)\n\u001b[1;32m     16\u001b[0m \u001b[38;5;28mprint\u001b[39m(\u001b[38;5;124mf\u001b[39m\u001b[38;5;124m'\u001b[39m\u001b[38;5;132;01m{\u001b[39;00mName\u001b[38;5;132;01m}\u001b[39;00m\u001b[38;5;124m Retake indeksin: \u001b[39m\u001b[38;5;132;01m{\u001b[39;00mindex\u001b[38;5;132;01m}\u001b[39;00m\u001b[38;5;124m butunlemeye kalmak: \u001b[39m\u001b[38;5;132;01m{\u001b[39;00mtekrar\u001b[38;5;132;01m}\u001b[39;00m\u001b[38;5;124m'\u001b[39m)\n",
      "\u001b[0;31mNameError\u001b[0m: name 'yuksek' is not defined"
     ]
    }
   ],
   "source": [
    "Name=input('Adiniz: ')\n",
    "Lastname=input('Soyadiniz: ')\n",
    "Lesson=input('Ders: ')\n",
    "Grades=float(input('Ders Notu:'))\n",
    "index=0\n",
    "\n",
    "\n",
    "\n",
    "Pass = (index >= 0) and (index<=18.4)  \n",
    "Fail = (index>18.4) and (index<=24.9)\n",
    "Retake = (index>24.9) and (index<=29.9)\n",
    "\n",
    "\n",
    "print(f'{Name} Pass indeksin: {index} gecis notun: {yuksek}')\n",
    "print(f'{Name} Fail indeksin: {index} dersten kalman: {dusuk}')\n",
    "print(f'{Name} Retake indeksin: {index} butunlemeye kalmak: {tekrar}')\n",
    "\n",
    "\n"
   ]
  },
  {
   "cell_type": "code",
   "execution_count": null,
   "id": "d62cfcdf",
   "metadata": {},
   "outputs": [],
   "source": []
  }
 ],
 "metadata": {
  "kernelspec": {
   "display_name": "Python 3 (ipykernel)",
   "language": "python",
   "name": "python3"
  },
  "language_info": {
   "codemirror_mode": {
    "name": "ipython",
    "version": 3
   },
   "file_extension": ".py",
   "mimetype": "text/x-python",
   "name": "python",
   "nbconvert_exporter": "python",
   "pygments_lexer": "ipython3",
   "version": "3.9.12"
  }
 },
 "nbformat": 4,
 "nbformat_minor": 5
}
